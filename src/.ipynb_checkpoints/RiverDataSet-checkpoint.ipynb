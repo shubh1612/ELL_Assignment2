{
 "cells": [
  {
   "cell_type": "code",
   "execution_count": 1,
   "metadata": {},
   "outputs": [
    {
     "name": "stdout",
     "output_type": "stream",
     "text": [
      "module://ipympl.backend_nbagg\n"
     ]
    }
   ],
   "source": [
    "import numpy as np\n",
    "import pandas as pd\n",
    "\n",
    "import ipympl\n",
    "import matplotlib\n",
    "import matplotlib.pyplot as plt\n",
    "import matplotlib.cm as cm\n",
    "from mpl_toolkits.mplot3d import Axes3D\n",
    "from sklearn.metrics import r2_score\n",
    "\n",
    "print(matplotlib.get_backend())\n",
    "\n",
    "import data_util as du\n",
    "import performance_util as pu\n",
    "import linear_model as lm"
   ]
  },
  {
   "cell_type": "code",
   "execution_count": 2,
   "metadata": {},
   "outputs": [],
   "source": [
    "data_dir = '../data/river_data.csv'\n",
    "random_seed = 1\n",
    "np.set_printoptions(precision=4)"
   ]
  },
  {
   "cell_type": "code",
   "execution_count": 3,
   "metadata": {},
   "outputs": [
    {
     "name": "stderr",
     "output_type": "stream",
     "text": [
      "F:\\Study\\7th Sem\\ELL 409\\Assignment 2\\ELL_Assignment2\\src\\data_util.py:70: FutureWarning: Method .as_matrix will be removed in a future version. Use .values instead.\n",
      "  X = df[['x']].as_matrix()\n",
      "F:\\Study\\7th Sem\\ELL 409\\Assignment 2\\ELL_Assignment2\\src\\data_util.py:72: FutureWarning: Method .as_matrix will be removed in a future version. Use .values instead.\n",
      "  Y = df[['levels']].as_matrix()\n"
     ]
    },
    {
     "name": "stdout",
     "output_type": "stream",
     "text": [
      "(10000, 1)\n",
      "(10000, 1)\n",
      "[50.0466]\n",
      "(7500, 1)\n",
      "(7500, 1)\n",
      "(2500, 1)\n",
      "(2500, 1)\n"
     ]
    },
    {
     "data": {
      "application/vnd.jupyter.widget-view+json": {
       "model_id": "836296596b164458a75eadbab94c0034",
       "version_major": 2,
       "version_minor": 0
      },
      "text/plain": [
       "FigureCanvasNbAgg()"
      ]
     },
     "metadata": {},
     "output_type": "display_data"
    }
   ],
   "source": [
    "X_train, Y_train = du.load_river(data_dir)\n",
    "print(X_train.shape)\n",
    "print(Y_train.shape)\n",
    "\n",
    "X_train, Y_train, X_test, Y_test = du.split_data(X_train, Y_train, train_ratio = 0.75, random_state = random_seed)\n",
    "print(X_train[0])\n",
    "print(X_train.shape)\n",
    "print(Y_train.shape)\n",
    "print(X_test.shape)\n",
    "print(Y_test.shape)\n",
    "plt.plot(X_train, Y_train)\n",
    "plt.xlabel(\"Value of x\")\n",
    "plt.ylabel(\"Levels\")\n",
    "plt.savefig(\"Images/River_dataset.png\")\n",
    "plt.show()"
   ]
  },
  {
   "cell_type": "code",
   "execution_count": 4,
   "metadata": {},
   "outputs": [
    {
     "name": "stdout",
     "output_type": "stream",
     "text": [
      "[2504.6666]\n",
      "(7500, 1)\n",
      "(7500, 1)\n",
      "(2500, 1)\n",
      "(2500, 1)\n"
     ]
    },
    {
     "data": {
      "application/vnd.jupyter.widget-view+json": {
       "model_id": "1b188f80b5134cb2a03337ed0409fe48",
       "version_major": 2,
       "version_minor": 0
      },
      "text/plain": [
       "FigureCanvasNbAgg()"
      ]
     },
     "metadata": {},
     "output_type": "display_data"
    }
   ],
   "source": [
    "X_train_squared = X_train**2\n",
    "X_test_squared = X_test**2\n",
    "print(X_train_squared[0])\n",
    "print(X_train.shape)\n",
    "print(Y_train.shape)\n",
    "print(X_test.shape)\n",
    "print(Y_test.shape)\n",
    "plt.plot(X_train_squared, Y_train)\n",
    "plt.xlabel(\"Value of x\")\n",
    "plt.ylabel(\"Levels\")\n",
    "plt.savefig(\"Images/River_dataset_squared.png\")\n",
    "plt.show()"
   ]
  },
  {
   "cell_type": "code",
   "execution_count": 5,
   "metadata": {},
   "outputs": [
    {
     "name": "stdout",
     "output_type": "stream",
     "text": [
      "[2454.62]\n",
      "(7500, 1)\n",
      "(7500, 1)\n",
      "(2500, 1)\n",
      "(2500, 1)\n"
     ]
    },
    {
     "data": {
      "application/vnd.jupyter.widget-view+json": {
       "model_id": "9c4249b4d50548358b2ba375cd2bb8a0",
       "version_major": 2,
       "version_minor": 0
      },
      "text/plain": [
       "FigureCanvasNbAgg()"
      ]
     },
     "metadata": {},
     "output_type": "display_data"
    }
   ],
   "source": [
    "X_train_new = X_train_squared - X_train\n",
    "X_test_new = X_test_squared - X_test\n",
    "print(X_train_new[0])\n",
    "print(X_train_new.shape)\n",
    "print(Y_train.shape)\n",
    "print(X_test_new.shape)\n",
    "print(Y_test.shape)\n",
    "plt.plot(X_train_new, Y_train)\n",
    "plt.xlabel(\"Value of x\")\n",
    "plt.ylabel(\"Levels\")\n",
    "plt.savefig(\"Images/River_dataset_squared_new.png\")\n",
    "plt.show()"
   ]
  },
  {
   "cell_type": "code",
   "execution_count": 6,
   "metadata": {},
   "outputs": [
    {
     "name": "stdout",
     "output_type": "stream",
     "text": [
      "[7.0744]\n",
      "(7500, 1)\n",
      "(7500, 1)\n",
      "(2500, 1)\n",
      "(2500, 1)\n"
     ]
    },
    {
     "data": {
      "application/vnd.jupyter.widget-view+json": {
       "model_id": "10ffe6723b7743eb9de94ae426f7bf4c",
       "version_major": 2,
       "version_minor": 0
      },
      "text/plain": [
       "FigureCanvasNbAgg()"
      ]
     },
     "metadata": {},
     "output_type": "display_data"
    }
   ],
   "source": [
    "X_train_root = np.sqrt(X_train.clip(min = 0))\n",
    "X_test_root = np.sqrt(X_test.clip(min = 0))\n",
    "print(X_train_root[0])\n",
    "print(X_train_root.shape)\n",
    "print(Y_train.shape)\n",
    "print(X_test_root.shape)\n",
    "print(Y_test.shape)\n",
    "plt.plot(X_train_root, Y_train)\n",
    "plt.xlabel(\"Value of x\")\n",
    "plt.ylabel(\"Levels\")\n",
    "plt.savefig(\"Images/River_dataset_root.png\")\n",
    "plt.show()"
   ]
  },
  {
   "cell_type": "code",
   "execution_count": 7,
   "metadata": {},
   "outputs": [
    {
     "name": "stdout",
     "output_type": "stream",
     "text": [
      "[42.9723]\n",
      "(7500, 1)\n",
      "(7500, 1)\n",
      "(2500, 1)\n",
      "(2500, 1)\n"
     ]
    },
    {
     "data": {
      "application/vnd.jupyter.widget-view+json": {
       "model_id": "dcdb5be2450a4facb6f8e4b3053735a3",
       "version_major": 2,
       "version_minor": 0
      },
      "text/plain": [
       "FigureCanvasNbAgg()"
      ]
     },
     "metadata": {},
     "output_type": "display_data"
    }
   ],
   "source": [
    "X_train_new_2 = X_train - X_train_root \n",
    "X_test_new_2 = X_test - X_test_root\n",
    "print(X_train_new_2[0])\n",
    "print(X_train_new_2.shape)\n",
    "print(Y_train.shape)\n",
    "print(X_test_new_2.shape)\n",
    "print(Y_test.shape)\n",
    "plt.plot(X_train_new_2, Y_train)\n",
    "plt.xlabel(\"Value of x\")\n",
    "plt.ylabel(\"Levels\")\n",
    "plt.savefig(\"Images/River_dataset_new_2.png\")\n",
    "plt.show()"
   ]
  },
  {
   "cell_type": "code",
   "execution_count": 8,
   "metadata": {},
   "outputs": [
    {
     "name": "stdout",
     "output_type": "stream",
     "text": [
      "[5.4323e+21]\n",
      "(7500, 1)\n",
      "(7500, 1)\n",
      "(2500, 1)\n",
      "(2500, 1)\n"
     ]
    },
    {
     "data": {
      "application/vnd.jupyter.widget-view+json": {
       "model_id": "c7f1008303c145a09d9d6fab4d8d6842",
       "version_major": 2,
       "version_minor": 0
      },
      "text/plain": [
       "FigureCanvasNbAgg()"
      ]
     },
     "metadata": {},
     "output_type": "display_data"
    }
   ],
   "source": [
    "X_train_exp = np.exp(X_train)\n",
    "X_test_exp = np.exp(X_test)\n",
    "print(X_train_exp[0])\n",
    "print(X_train_exp.shape)\n",
    "print(Y_train.shape)\n",
    "print(X_test_exp.shape)\n",
    "print(Y_test.shape)\n",
    "plt.plot(X_train_exp, Y_train)\n",
    "plt.xlabel(\"Value of x\")\n",
    "plt.ylabel(\"Levels\")\n",
    "plt.savefig(\"Images/River_dataset_exp.png\")\n",
    "plt.show()"
   ]
  },
  {
   "cell_type": "code",
   "execution_count": 9,
   "metadata": {},
   "outputs": [
    {
     "name": "stdout",
     "output_type": "stream",
     "text": [
      "[1.6994]\n",
      "(7500, 1)\n",
      "(7500, 1)\n",
      "(2500, 1)\n",
      "(2500, 1)\n"
     ]
    },
    {
     "data": {
      "application/vnd.jupyter.widget-view+json": {
       "model_id": "bd052de6ee8d489d81d639f74114c1f4",
       "version_major": 2,
       "version_minor": 0
      },
      "text/plain": [
       "FigureCanvasNbAgg()"
      ]
     },
     "metadata": {},
     "output_type": "display_data"
    }
   ],
   "source": [
    "X_train_log = np.log10(X_train.clip(min = 0))\n",
    "X_test_log = np.log10(X_test.clip(min = 0))\n",
    "print(X_train_log[0])\n",
    "print(X_train_log.shape)\n",
    "print(Y_train.shape)\n",
    "print(X_test_log.shape)\n",
    "print(Y_test.shape)\n",
    "plt.plot(X_train_log, Y_train)\n",
    "plt.xlabel(\"Value of x\")\n",
    "plt.ylabel(\"Levels\")\n",
    "plt.savefig(\"Images/River_dataset_log.png\")\n",
    "plt.show()"
   ]
  },
  {
   "cell_type": "code",
   "execution_count": 10,
   "metadata": {},
   "outputs": [
    {
     "name": "stdout",
     "output_type": "stream",
     "text": [
      "(7500, 5) (5, 1)\n"
     ]
    },
    {
     "name": "stderr",
     "output_type": "stream",
     "text": [
      "F:\\Study\\7th Sem\\ELL 409\\Assignment 2\\ELL_Assignment2\\src\\linear_model.py:28: RuntimeWarning: overflow encountered in square\n",
      "  J = (sum(np.square(X.dot(theta) - y))/(2*m) + (Lambda/(2*m))*sum(np.square(temp)))\n",
      "F:\\Study\\7th Sem\\ELL 409\\Assignment 2\\ELL_Assignment2\\src\\linear_model.py:85: RuntimeWarning: invalid value encountered in subtract\n",
      "  theta = theta - alpha * gradient\n"
     ]
    },
    {
     "data": {
      "application/vnd.jupyter.widget-view+json": {
       "model_id": "df2a120e8c5c4fc7951b216f53c8e09b",
       "version_major": 2,
       "version_minor": 0
      },
      "text/plain": [
       "FigureCanvasNbAgg()"
      ]
     },
     "metadata": {},
     "output_type": "display_data"
    },
    {
     "ename": "AttributeError",
     "evalue": "'LinearModel' object has no attribute 'input_vector'",
     "output_type": "error",
     "traceback": [
      "\u001b[1;31m---------------------------------------------------------------------------\u001b[0m",
      "\u001b[1;31mAttributeError\u001b[0m                            Traceback (most recent call last)",
      "\u001b[1;32m<ipython-input-10-9e736ce6de6d>\u001b[0m in \u001b[0;36m<module>\u001b[1;34m()\u001b[0m\n\u001b[0;32m     12\u001b[0m \u001b[0mmodel\u001b[0m \u001b[1;33m=\u001b[0m \u001b[0mlm\u001b[0m\u001b[1;33m.\u001b[0m\u001b[0mLinearModel\u001b[0m\u001b[1;33m(\u001b[0m\u001b[0msolver\u001b[0m \u001b[1;33m=\u001b[0m \u001b[1;34m'gd'\u001b[0m\u001b[1;33m,\u001b[0m \u001b[0mnum_iter\u001b[0m \u001b[1;33m=\u001b[0m \u001b[1;36m1000\u001b[0m\u001b[1;33m)\u001b[0m\u001b[1;33m\u001b[0m\u001b[0m\n\u001b[0;32m     13\u001b[0m \u001b[0mmodel\u001b[0m\u001b[1;33m.\u001b[0m\u001b[0mtrain\u001b[0m\u001b[1;33m(\u001b[0m\u001b[0mX_train_prime\u001b[0m\u001b[1;33m,\u001b[0m \u001b[0mY_train\u001b[0m\u001b[1;33m)\u001b[0m\u001b[1;33m\u001b[0m\u001b[0m\n\u001b[1;32m---> 14\u001b[1;33m \u001b[0mY_pred\u001b[0m \u001b[1;33m=\u001b[0m \u001b[0mmodel\u001b[0m\u001b[1;33m.\u001b[0m\u001b[0mpredict\u001b[0m\u001b[1;33m(\u001b[0m\u001b[0mX_test_prime\u001b[0m\u001b[1;33m)\u001b[0m\u001b[1;33m\u001b[0m\u001b[0m\n\u001b[0m\u001b[0;32m     15\u001b[0m \u001b[0mprint\u001b[0m\u001b[1;33m(\u001b[0m\u001b[0mY_pred\u001b[0m\u001b[1;33m.\u001b[0m\u001b[0mshape\u001b[0m\u001b[1;33m,\u001b[0m \u001b[0mY_test\u001b[0m\u001b[1;33m.\u001b[0m\u001b[0mshape\u001b[0m\u001b[1;33m)\u001b[0m\u001b[1;33m\u001b[0m\u001b[0m\n\u001b[0;32m     16\u001b[0m \u001b[0mprint\u001b[0m\u001b[1;33m(\u001b[0m\u001b[0mr2_score\u001b[0m\u001b[1;33m(\u001b[0m\u001b[0mY_test\u001b[0m\u001b[1;33m,\u001b[0m \u001b[0mY_pred\u001b[0m\u001b[1;33m)\u001b[0m\u001b[1;33m)\u001b[0m\u001b[1;33m\u001b[0m\u001b[0m\n",
      "\u001b[1;32mF:\\Study\\7th Sem\\ELL 409\\Assignment 2\\ELL_Assignment2\\src\\linear_model.py\u001b[0m in \u001b[0;36mpredict\u001b[1;34m(self, X_test)\u001b[0m\n\u001b[0;32m     99\u001b[0m \u001b[1;33m\u001b[0m\u001b[0m\n\u001b[0;32m    100\u001b[0m     \u001b[1;32mdef\u001b[0m \u001b[0mpredict\u001b[0m\u001b[1;33m(\u001b[0m\u001b[0mself\u001b[0m\u001b[1;33m,\u001b[0m \u001b[0mX_test\u001b[0m\u001b[1;33m)\u001b[0m\u001b[1;33m:\u001b[0m\u001b[1;33m\u001b[0m\u001b[0m\n\u001b[1;32m--> 101\u001b[1;33m         \u001b[0mX_test\u001b[0m \u001b[1;33m=\u001b[0m \u001b[0mself\u001b[0m\u001b[1;33m.\u001b[0m\u001b[0minput_vector\u001b[0m\u001b[1;33m(\u001b[0m\u001b[0mX_test\u001b[0m\u001b[1;33m)\u001b[0m\u001b[1;33m\u001b[0m\u001b[0m\n\u001b[0m\u001b[0;32m    102\u001b[0m         \u001b[0mm\u001b[0m \u001b[1;33m=\u001b[0m \u001b[0mX_test\u001b[0m\u001b[1;33m.\u001b[0m\u001b[0mshape\u001b[0m\u001b[1;33m[\u001b[0m\u001b[1;36m0\u001b[0m\u001b[1;33m]\u001b[0m\u001b[1;33m\u001b[0m\u001b[0m\n\u001b[0;32m    103\u001b[0m         \u001b[0mones\u001b[0m \u001b[1;33m=\u001b[0m \u001b[0mnp\u001b[0m\u001b[1;33m.\u001b[0m\u001b[0mones\u001b[0m\u001b[1;33m(\u001b[0m\u001b[1;33m(\u001b[0m\u001b[1;36m1\u001b[0m\u001b[1;33m,\u001b[0m\u001b[0mm\u001b[0m\u001b[1;33m)\u001b[0m\u001b[1;33m)\u001b[0m\u001b[1;33m\u001b[0m\u001b[0m\n",
      "\u001b[1;31mAttributeError\u001b[0m: 'LinearModel' object has no attribute 'input_vector'"
     ]
    }
   ],
   "source": [
    "X_train_prime = np.hstack((X_train, X_train_squared))\n",
    "X_test_prime = np.hstack((X_test, X_test_squared))\n",
    "X_train_prime = np.hstack((X_train_prime, X_train**3))\n",
    "X_test_prime = np.hstack((X_test_prime, X_test**3))\n",
    "# X_train_prime = np.hstack((X_train_prime, X_train**4))\n",
    "# X_test_prime = np.hstack((X_test_prime, X_test**4))\n",
    "X_train_prime = np.hstack((X_train_prime, np.multiply(X_train_squared, X_train_root)))\n",
    "X_test_prime = np.hstack((X_test_prime, np.multiply(X_test_squared, X_test_root)))\n",
    "# from sklearn import linear_model\n",
    "# regr = linear_model.LinearRegression()\n",
    "# regr.fit(X_train_prime, Y_train)\n",
    "model = lm.LinearModel(solver = 'gd', num_iter = 1000, Lambda = 0.5)\n",
    "model.train(X_train_prime, Y_train)\n",
    "Y_pred = model.predict(X_test_prime)\n",
    "print(Y_pred.shape, Y_test.shape)\n",
    "print(r2_score(Y_test, Y_pred))"
   ]
  },
  {
   "cell_type": "code",
   "execution_count": null,
   "metadata": {},
   "outputs": [],
   "source": []
  },
  {
   "cell_type": "code",
   "execution_count": null,
   "metadata": {},
   "outputs": [],
   "source": []
  }
 ],
 "metadata": {
  "kernelspec": {
   "display_name": "BTP",
   "language": "python",
   "name": "btp"
  },
  "language_info": {
   "codemirror_mode": {
    "name": "ipython",
    "version": 3
   },
   "file_extension": ".py",
   "mimetype": "text/x-python",
   "name": "python",
   "nbconvert_exporter": "python",
   "pygments_lexer": "ipython3",
   "version": "3.6.4"
  }
 },
 "nbformat": 4,
 "nbformat_minor": 2
}
