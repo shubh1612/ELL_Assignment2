{
 "cells": [
  {
   "cell_type": "code",
   "execution_count": 1,
   "metadata": {},
   "outputs": [
    {
     "name": "stdout",
     "output_type": "stream",
     "text": [
      "module://ipykernel.pylab.backend_inline\n"
     ]
    }
   ],
   "source": [
    "import numpy as np\n",
    "import pandas as pd\n",
    "\n",
    "#import ipympl\n",
    "import matplotlib\n",
    "import matplotlib.pyplot as plt\n",
    "import matplotlib.cm as cm\n",
    "from mpl_toolkits.mplot3d import Axes3D\n",
    "\n",
    "print(matplotlib.get_backend())\n",
    "\n",
    "\n",
    "#from sklearn.decomposition import PCA\n",
    "#from PCA import PCA\n",
    "import linear_model as LR\n",
    "import log_model as logm\n",
    "import softmax_logit as sml\n",
    "import flda\n",
    "import perceptron_model as pm\n",
    "from sklearn import svm\n",
    "\n",
    "%matplotlib inline\n",
    "# %matplotlib notebook\n",
    "# %matplotlib widget\n",
    "# %matplotlib agg"
   ]
  },
  {
   "cell_type": "code",
   "execution_count": 2,
   "metadata": {},
   "outputs": [],
   "source": [
    "data_dir = 'railwayBookingList.csv'\n",
    "df = pd.read_csv(data_dir)"
   ]
  },
  {
   "cell_type": "code",
   "execution_count": 3,
   "metadata": {},
   "outputs": [
    {
     "data": {
      "text/plain": [
       "caseID            0\n",
       "boarded           0\n",
       "budget            0\n",
       "memberCount       0\n",
       "preferredClass    0\n",
       "sex               1\n",
       "age               0\n",
       "dtype: int64"
      ]
     },
     "execution_count": 3,
     "metadata": {},
     "output_type": "execute_result"
    }
   ],
   "source": [
    "(df.isnull()).sum()"
   ]
  },
  {
   "cell_type": "code",
   "execution_count": 4,
   "metadata": {
    "scrolled": true
   },
   "outputs": [
    {
     "data": {
      "text/html": [
       "<div>\n",
       "<style scoped>\n",
       "    .dataframe tbody tr th:only-of-type {\n",
       "        vertical-align: middle;\n",
       "    }\n",
       "\n",
       "    .dataframe tbody tr th {\n",
       "        vertical-align: top;\n",
       "    }\n",
       "\n",
       "    .dataframe thead th {\n",
       "        text-align: right;\n",
       "    }\n",
       "</style>\n",
       "<table border=\"1\" class=\"dataframe\">\n",
       "  <thead>\n",
       "    <tr style=\"text-align: right;\">\n",
       "      <th></th>\n",
       "      <th>caseID</th>\n",
       "      <th>boarded</th>\n",
       "      <th>budget</th>\n",
       "      <th>memberCount</th>\n",
       "      <th>preferredClass</th>\n",
       "      <th>sex</th>\n",
       "      <th>age</th>\n",
       "    </tr>\n",
       "  </thead>\n",
       "  <tbody>\n",
       "    <tr>\n",
       "      <th>0</th>\n",
       "      <td>111131089</td>\n",
       "      <td>0</td>\n",
       "      <td>2201</td>\n",
       "      <td>0</td>\n",
       "      <td>FIRST_AC</td>\n",
       "      <td>female</td>\n",
       "      <td>2</td>\n",
       "    </tr>\n",
       "    <tr>\n",
       "      <th>1</th>\n",
       "      <td>2489059216</td>\n",
       "      <td>0</td>\n",
       "      <td>1775</td>\n",
       "      <td>3</td>\n",
       "      <td>FIRST_AC</td>\n",
       "      <td>male</td>\n",
       "      <td>0</td>\n",
       "    </tr>\n",
       "    <tr>\n",
       "      <th>2</th>\n",
       "      <td>1565109576</td>\n",
       "      <td>1</td>\n",
       "      <td>1775</td>\n",
       "      <td>3</td>\n",
       "      <td>FIRST_AC</td>\n",
       "      <td>female</td>\n",
       "      <td>0</td>\n",
       "    </tr>\n",
       "    <tr>\n",
       "      <th>3</th>\n",
       "      <td>1373075087</td>\n",
       "      <td>1</td>\n",
       "      <td>1775</td>\n",
       "      <td>3</td>\n",
       "      <td>FIRST_AC</td>\n",
       "      <td>male</td>\n",
       "      <td>3</td>\n",
       "    </tr>\n",
       "    <tr>\n",
       "      <th>4</th>\n",
       "      <td>1598041082</td>\n",
       "      <td>1</td>\n",
       "      <td>1775</td>\n",
       "      <td>3</td>\n",
       "      <td>FIRST_AC</td>\n",
       "      <td>female</td>\n",
       "      <td>2</td>\n",
       "    </tr>\n",
       "  </tbody>\n",
       "</table>\n",
       "</div>"
      ],
      "text/plain": [
       "       caseID  boarded  budget  memberCount preferredClass     sex  age\n",
       "0   111131089        0    2201            0       FIRST_AC  female    2\n",
       "1  2489059216        0    1775            3       FIRST_AC    male    0\n",
       "2  1565109576        1    1775            3       FIRST_AC  female    0\n",
       "3  1373075087        1    1775            3       FIRST_AC    male    3\n",
       "4  1598041082        1    1775            3       FIRST_AC  female    2"
      ]
     },
     "execution_count": 4,
     "metadata": {},
     "output_type": "execute_result"
    }
   ],
   "source": [
    "df.head()"
   ]
  },
  {
   "cell_type": "code",
   "execution_count": 5,
   "metadata": {},
   "outputs": [],
   "source": [
    "import matplotlib.pyplot as plt\n",
    "import seaborn as sns"
   ]
  },
  {
   "cell_type": "code",
   "execution_count": 6,
   "metadata": {},
   "outputs": [
    {
     "name": "stdout",
     "output_type": "stream",
     "text": [
      "Approved examples =  810\n",
      "Non approved examples =  500\n",
      "Proportion of positive to negative examples =  162.0\n"
     ]
    },
    {
     "data": {
      "text/plain": [
       "Text(0.5,1,'Class counts')"
      ]
     },
     "execution_count": 6,
     "metadata": {},
     "output_type": "execute_result"
    },
    {
     "data": {
      "image/png": "[encoded data removed]",
      "text/plain": [
       "<Figure size 576x432 with 1 Axes>"
      ]
     },
     "metadata": {},
     "output_type": "display_data"
    }
   ],
   "source": [
    "# Get number of positve and negative examples\n",
    "pos = df[df[\"boarded\"] == 1].shape[0]        # approved\n",
    "neg = df[df[\"boarded\"] == 0].shape[0]        # not approved     \n",
    "print(\"Approved examples = \", pos)\n",
    "print(\"Non approved examples = \", neg)\n",
    "print(\"Proportion of positive to negative examples = \",(pos / neg) * 100)\n",
    "plt.figure(figsize=(8, 6))\n",
    "sns.countplot(df[\"boarded\"])\n",
    "plt.xticks((0, 1), [\"not_boarded\", \"boarded\"])\n",
    "plt.xlabel(\"\")\n",
    "plt.ylabel(\"Count\")\n",
    "plt.title(\"Class counts\", y=1, fontdict={\"fontsize\": 20})"
   ]
  },
  {
   "cell_type": "code",
   "execution_count": 7,
   "metadata": {},
   "outputs": [],
   "source": [
    "df1 = pd.get_dummies(df, columns=[\"preferredClass\"], drop_first=False)"
   ]
  },
  {
   "cell_type": "code",
   "execution_count": 8,
   "metadata": {},
   "outputs": [
    {
     "data": {
      "text/html": [
       "<div>\n",
       "<style scoped>\n",
       "    .dataframe tbody tr th:only-of-type {\n",
       "        vertical-align: middle;\n",
       "    }\n",
       "\n",
       "    .dataframe tbody tr th {\n",
       "        vertical-align: top;\n",
       "    }\n",
       "\n",
       "    .dataframe thead th {\n",
       "        text-align: right;\n",
       "    }\n",
       "</style>\n",
       "<table border=\"1\" class=\"dataframe\">\n",
       "  <thead>\n",
       "    <tr style=\"text-align: right;\">\n",
       "      <th></th>\n",
       "      <th>caseID</th>\n",
       "      <th>boarded</th>\n",
       "      <th>budget</th>\n",
       "      <th>memberCount</th>\n",
       "      <th>sex</th>\n",
       "      <th>age</th>\n",
       "      <th>preferredClass_FIRST_AC</th>\n",
       "      <th>preferredClass_NO_PREF</th>\n",
       "      <th>preferredClass_SECOND_AC</th>\n",
       "      <th>preferredClass_THIRD_AC</th>\n",
       "    </tr>\n",
       "  </thead>\n",
       "  <tbody>\n",
       "    <tr>\n",
       "      <th>0</th>\n",
       "      <td>111131089</td>\n",
       "      <td>0</td>\n",
       "      <td>2201</td>\n",
       "      <td>0</td>\n",
       "      <td>female</td>\n",
       "      <td>2</td>\n",
       "      <td>1</td>\n",
       "      <td>0</td>\n",
       "      <td>0</td>\n",
       "      <td>0</td>\n",
       "    </tr>\n",
       "    <tr>\n",
       "      <th>1</th>\n",
       "      <td>2489059216</td>\n",
       "      <td>0</td>\n",
       "      <td>1775</td>\n",
       "      <td>3</td>\n",
       "      <td>male</td>\n",
       "      <td>0</td>\n",
       "      <td>1</td>\n",
       "      <td>0</td>\n",
       "      <td>0</td>\n",
       "      <td>0</td>\n",
       "    </tr>\n",
       "    <tr>\n",
       "      <th>2</th>\n",
       "      <td>1565109576</td>\n",
       "      <td>1</td>\n",
       "      <td>1775</td>\n",
       "      <td>3</td>\n",
       "      <td>female</td>\n",
       "      <td>0</td>\n",
       "      <td>1</td>\n",
       "      <td>0</td>\n",
       "      <td>0</td>\n",
       "      <td>0</td>\n",
       "    </tr>\n",
       "    <tr>\n",
       "      <th>3</th>\n",
       "      <td>1373075087</td>\n",
       "      <td>1</td>\n",
       "      <td>1775</td>\n",
       "      <td>3</td>\n",
       "      <td>male</td>\n",
       "      <td>3</td>\n",
       "      <td>1</td>\n",
       "      <td>0</td>\n",
       "      <td>0</td>\n",
       "      <td>0</td>\n",
       "    </tr>\n",
       "    <tr>\n",
       "      <th>4</th>\n",
       "      <td>1598041082</td>\n",
       "      <td>1</td>\n",
       "      <td>1775</td>\n",
       "      <td>3</td>\n",
       "      <td>female</td>\n",
       "      <td>2</td>\n",
       "      <td>1</td>\n",
       "      <td>0</td>\n",
       "      <td>0</td>\n",
       "      <td>0</td>\n",
       "    </tr>\n",
       "  </tbody>\n",
       "</table>\n",
       "</div>"
      ],
      "text/plain": [
       "       caseID  boarded  budget  memberCount     sex  age  \\\n",
       "0   111131089        0    2201            0  female    2   \n",
       "1  2489059216        0    1775            3    male    0   \n",
       "2  1565109576        1    1775            3  female    0   \n",
       "3  1373075087        1    1775            3    male    3   \n",
       "4  1598041082        1    1775            3  female    2   \n",
       "\n",
       "   preferredClass_FIRST_AC  preferredClass_NO_PREF  preferredClass_SECOND_AC  \\\n",
       "0                        1                       0                         0   \n",
       "1                        1                       0                         0   \n",
       "2                        1                       0                         0   \n",
       "3                        1                       0                         0   \n",
       "4                        1                       0                         0   \n",
       "\n",
       "   preferredClass_THIRD_AC  \n",
       "0                        0  \n",
       "1                        0  \n",
       "2                        0  \n",
       "3                        0  \n",
       "4                        0  "
      ]
     },
     "execution_count": 8,
     "metadata": {},
     "output_type": "execute_result"
    }
   ],
   "source": [
    "df1.head()"
   ]
  },
  {
   "cell_type": "code",
   "execution_count": 9,
   "metadata": {},
   "outputs": [],
   "source": [
    "df1 = df1.drop(columns=['preferredClass_NO_PREF'])"
   ]
  },
  {
   "cell_type": "code",
   "execution_count": 10,
   "metadata": {},
   "outputs": [],
   "source": [
    "df1 = pd.get_dummies(df1, columns=[\"sex\"], drop_first=True)"
   ]
  },
  {
   "cell_type": "code",
   "execution_count": 11,
   "metadata": {},
   "outputs": [
    {
     "data": {
      "text/html": [
       "<div>\n",
       "<style scoped>\n",
       "    .dataframe tbody tr th:only-of-type {\n",
       "        vertical-align: middle;\n",
       "    }\n",
       "\n",
       "    .dataframe tbody tr th {\n",
       "        vertical-align: top;\n",
       "    }\n",
       "\n",
       "    .dataframe thead th {\n",
       "        text-align: right;\n",
       "    }\n",
       "</style>\n",
       "<table border=\"1\" class=\"dataframe\">\n",
       "  <thead>\n",
       "    <tr style=\"text-align: right;\">\n",
       "      <th></th>\n",
       "      <th>caseID</th>\n",
       "      <th>boarded</th>\n",
       "      <th>budget</th>\n",
       "      <th>memberCount</th>\n",
       "      <th>preferredClass</th>\n",
       "      <th>sex</th>\n",
       "      <th>age</th>\n",
       "    </tr>\n",
       "  </thead>\n",
       "  <tbody>\n",
       "    <tr>\n",
       "      <th>1309</th>\n",
       "      <td>3068255754</td>\n",
       "      <td>1</td>\n",
       "      <td>710</td>\n",
       "      <td>0</td>\n",
       "      <td>NO_PREF</td>\n",
       "      <td>NaN</td>\n",
       "      <td>0</td>\n",
       "    </tr>\n",
       "  </tbody>\n",
       "</table>\n",
       "</div>"
      ],
      "text/plain": [
       "          caseID  boarded  budget  memberCount preferredClass  sex  age\n",
       "1309  3068255754        1     710            0        NO_PREF  NaN    0"
      ]
     },
     "execution_count": 11,
     "metadata": {},
     "output_type": "execute_result"
    }
   ],
   "source": [
    "df[df.sex.isnull()]"
   ]
  },
  {
   "cell_type": "code",
   "execution_count": 12,
   "metadata": {},
   "outputs": [
    {
     "data": {
      "text/html": [
       "<div>\n",
       "<style scoped>\n",
       "    .dataframe tbody tr th:only-of-type {\n",
       "        vertical-align: middle;\n",
       "    }\n",
       "\n",
       "    .dataframe tbody tr th {\n",
       "        vertical-align: top;\n",
       "    }\n",
       "\n",
       "    .dataframe thead th {\n",
       "        text-align: right;\n",
       "    }\n",
       "</style>\n",
       "<table border=\"1\" class=\"dataframe\">\n",
       "  <thead>\n",
       "    <tr style=\"text-align: right;\">\n",
       "      <th></th>\n",
       "      <th>caseID</th>\n",
       "      <th>boarded</th>\n",
       "      <th>budget</th>\n",
       "      <th>memberCount</th>\n",
       "      <th>age</th>\n",
       "      <th>preferredClass_FIRST_AC</th>\n",
       "      <th>preferredClass_SECOND_AC</th>\n",
       "      <th>preferredClass_THIRD_AC</th>\n",
       "      <th>sex_male</th>\n",
       "    </tr>\n",
       "  </thead>\n",
       "  <tbody>\n",
       "    <tr>\n",
       "      <th>0</th>\n",
       "      <td>111131089</td>\n",
       "      <td>0</td>\n",
       "      <td>2201</td>\n",
       "      <td>0</td>\n",
       "      <td>2</td>\n",
       "      <td>1</td>\n",
       "      <td>0</td>\n",
       "      <td>0</td>\n",
       "      <td>0</td>\n",
       "    </tr>\n",
       "    <tr>\n",
       "      <th>1</th>\n",
       "      <td>2489059216</td>\n",
       "      <td>0</td>\n",
       "      <td>1775</td>\n",
       "      <td>3</td>\n",
       "      <td>0</td>\n",
       "      <td>1</td>\n",
       "      <td>0</td>\n",
       "      <td>0</td>\n",
       "      <td>1</td>\n",
       "    </tr>\n",
       "    <tr>\n",
       "      <th>2</th>\n",
       "      <td>1565109576</td>\n",
       "      <td>1</td>\n",
       "      <td>1775</td>\n",
       "      <td>3</td>\n",
       "      <td>0</td>\n",
       "      <td>1</td>\n",
       "      <td>0</td>\n",
       "      <td>0</td>\n",
       "      <td>0</td>\n",
       "    </tr>\n",
       "    <tr>\n",
       "      <th>3</th>\n",
       "      <td>1373075087</td>\n",
       "      <td>1</td>\n",
       "      <td>1775</td>\n",
       "      <td>3</td>\n",
       "      <td>3</td>\n",
       "      <td>1</td>\n",
       "      <td>0</td>\n",
       "      <td>0</td>\n",
       "      <td>1</td>\n",
       "    </tr>\n",
       "    <tr>\n",
       "      <th>4</th>\n",
       "      <td>1598041082</td>\n",
       "      <td>1</td>\n",
       "      <td>1775</td>\n",
       "      <td>3</td>\n",
       "      <td>2</td>\n",
       "      <td>1</td>\n",
       "      <td>0</td>\n",
       "      <td>0</td>\n",
       "      <td>0</td>\n",
       "    </tr>\n",
       "  </tbody>\n",
       "</table>\n",
       "</div>"
      ],
      "text/plain": [
       "       caseID  boarded  budget  memberCount  age  preferredClass_FIRST_AC  \\\n",
       "0   111131089        0    2201            0    2                        1   \n",
       "1  2489059216        0    1775            3    0                        1   \n",
       "2  1565109576        1    1775            3    0                        1   \n",
       "3  1373075087        1    1775            3    3                        1   \n",
       "4  1598041082        1    1775            3    2                        1   \n",
       "\n",
       "   preferredClass_SECOND_AC  preferredClass_THIRD_AC  sex_male  \n",
       "0                         0                        0         0  \n",
       "1                         0                        0         1  \n",
       "2                         0                        0         0  \n",
       "3                         0                        0         1  \n",
       "4                         0                        0         0  "
      ]
     },
     "execution_count": 12,
     "metadata": {},
     "output_type": "execute_result"
    }
   ],
   "source": [
    "df1.head()"
   ]
  },
  {
   "cell_type": "code",
   "execution_count": 13,
   "metadata": {},
   "outputs": [],
   "source": [
    "X = df1[['budget', 'memberCount',  'age','preferredClass_FIRST_AC','preferredClass_SECOND_AC','preferredClass_THIRD_AC','sex_male']].values"
   ]
  },
  {
   "cell_type": "code",
   "execution_count": 14,
   "metadata": {},
   "outputs": [],
   "source": [
    "y = df[['boarded']].values"
   ]
  },
  {
   "cell_type": "code",
   "execution_count": 15,
   "metadata": {},
   "outputs": [],
   "source": [
    "from sklearn.model_selection import train_test_split\n",
    "\n",
    "X_train, X_test, y_train, y_test = train_test_split(X, y, test_size=0.2, random_state=42)"
   ]
  },
  {
   "cell_type": "markdown",
   "metadata": {},
   "source": [
    "## Flda testing"
   ]
  },
  {
   "cell_type": "code",
   "execution_count": 16,
   "metadata": {},
   "outputs": [],
   "source": [
    "from flda import flda\n",
    "model = flda(num_classes=2)"
   ]
  },
  {
   "cell_type": "code",
   "execution_count": 17,
   "metadata": {},
   "outputs": [],
   "source": [
    "model.train(X_train,y_train)\n",
    "y_train_pred=model.predict(X_train)"
   ]
  },
  {
   "cell_type": "code",
   "execution_count": 18,
   "metadata": {},
   "outputs": [
    {
     "name": "stdout",
     "output_type": "stream",
     "text": [
      "Training set accuracy using flda: 0.37595419847328243\n",
      "Training set f1 score using flda: 0.018018018018018018\n"
     ]
    }
   ],
   "source": [
    "from sklearn import metrics\n",
    "print('Training set accuracy using flda:',metrics.accuracy_score(y_train, y_train_pred))\n",
    "print('Training set f1 score using flda:',metrics.f1_score(y_train, y_train_pred))"
   ]
  },
  {
   "cell_type": "code",
   "execution_count": 19,
   "metadata": {},
   "outputs": [
    {
     "data": {
      "text/plain": [
       "660"
      ]
     },
     "execution_count": 19,
     "metadata": {},
     "output_type": "execute_result"
    }
   ],
   "source": [
    "y_train.sum()"
   ]
  },
  {
   "cell_type": "code",
   "execution_count": 20,
   "metadata": {},
   "outputs": [
    {
     "name": "stdout",
     "output_type": "stream",
     "text": [
      "Test set accuracy using flda: 0.44274809160305345\n",
      "Test set f1 score using flda: 0.05194805194805195\n"
     ]
    }
   ],
   "source": [
    "y_test_pred = model.predict(X_test)\n",
    "print('Test set accuracy using flda:',metrics.accuracy_score(y_test, y_test_pred))\n",
    "print('Test set f1 score using flda:',metrics.f1_score(y_test, y_test_pred))\n"
   ]
  },
  {
   "cell_type": "code",
   "execution_count": 21,
   "metadata": {},
   "outputs": [],
   "source": [
    "import performance_util as pu"
   ]
  },
  {
   "cell_type": "code",
   "execution_count": 22,
   "metadata": {},
   "outputs": [
    {
     "name": "stdout",
     "output_type": "stream",
     "text": [
      "Accuracy on Dev Set =  0.44274809160305345\n",
      "Precision per Class\n",
      "[0.43410853 1.        ]\n",
      "Recall per Class\n",
      "[1.         0.02666667]\n",
      "F1 Score per Class\n",
      "[0.60540541 0.05194805]\n",
      "Macro Average Precision, Recall and F1 Score\n",
      "[0.71705426 0.51333333 0.59832829]\n",
      "Micro Average Precision, Recall and F1 Score\n",
      "[0.44274809 0.44274809 0.44274809]\n"
     ]
    }
   ],
   "source": [
    "\n",
    "Y_pred = model.predict(X_test)\n",
    "print(\"Accuracy on Dev Set = \", pu.model_accuracy(Y_pred, y_test))\n",
    "print(\"Precision per Class\")\n",
    "print(pu.model_precision(Y_pred, y_test, 2).T[0, :])\n",
    "print(\"Recall per Class\")\n",
    "print(pu.model_recall(Y_pred, y_test, 2).T[0, :])\n",
    "print(\"F1 Score per Class\")\n",
    "print(pu.model_f1(Y_pred, y_test, 2).T[0, :])\n",
    "print(\"Macro Average Precision, Recall and F1 Score\")\n",
    "print(pu.model_macro_average(Y_pred, y_test, 2))\n",
    "print(\"Micro Average Precision, Recall and F1 Score\")\n",
    "print(pu.model_micro_average(Y_pred, y_test, 2))"
   ]
  },
  {
   "cell_type": "markdown",
   "metadata": {},
   "source": [
    "# Standard Scaling"
   ]
  },
  {
   "cell_type": "code",
   "execution_count": 23,
   "metadata": {},
   "outputs": [],
   "source": [
    "X_train_df = pd.DataFrame(X_train,columns = ['budget', 'memberCount',  'age','preferredClass_FIRST_AC','preferredClass_SECOND_AC','preferredClass_THIRD_AC','sex_male'])"
   ]
  },
  {
   "cell_type": "code",
   "execution_count": 24,
   "metadata": {},
   "outputs": [],
   "source": [
    "X_test_df = pd.DataFrame(X_test,columns =['budget', 'memberCount',  'age','preferredClass_FIRST_AC','preferredClass_SECOND_AC','preferredClass_THIRD_AC','sex_male'])"
   ]
  },
  {
   "cell_type": "code",
   "execution_count": 25,
   "metadata": {},
   "outputs": [
    {
     "name": "stderr",
     "output_type": "stream",
     "text": [
      "/home/harsh/.conda/envs/py35/lib/python3.5/site-packages/sklearn/utils/validation.py:475: DataConversionWarning: Data with input dtype int64 was converted to float64 by StandardScaler.\n",
      "  warnings.warn(msg, DataConversionWarning)\n"
     ]
    }
   ],
   "source": [
    "from sklearn.preprocessing import StandardScaler\n",
    "scaler = StandardScaler()\n",
    "X_train_scaled = scaler.fit(X_train).transform(X_train)\n",
    "X_test_scaled = scaler.fit(X_test).transform(X_test)"
   ]
  },
  {
   "cell_type": "code",
   "execution_count": 26,
   "metadata": {},
   "outputs": [
    {
     "data": {
      "text/plain": [
       "array([[-0.53319188, -0.55339725, -0.64509198, ..., -0.52138725,\n",
       "         0.93350339,  0.75422959],\n",
       "       [-0.53319188, -0.55339725, -1.2381239 , ..., -0.52138725,\n",
       "         0.93350339,  0.75422959],\n",
       "       [ 0.04486166,  0.55763784, -0.64509198, ...,  1.91796023,\n",
       "        -1.07123339, -1.32585623],\n",
       "       ...,\n",
       "       [ 0.6229152 ,  0.0021203 , -0.05206005, ..., -0.52138725,\n",
       "        -1.07123339,  0.75422959],\n",
       "       [-0.53319188, -0.55339725, -0.64509198, ..., -0.52138725,\n",
       "         0.93350339,  0.75422959],\n",
       "       [-0.53319188, -0.55339725, -1.2381239 , ..., -0.52138725,\n",
       "         0.93350339,  0.75422959]])"
      ]
     },
     "execution_count": 26,
     "metadata": {},
     "output_type": "execute_result"
    }
   ],
   "source": [
    "X_test_scaled\n"
   ]
  },
  {
   "cell_type": "markdown",
   "metadata": {},
   "source": [
    "## flda on scaled data"
   ]
  },
  {
   "cell_type": "code",
   "execution_count": 27,
   "metadata": {
    "scrolled": false
   },
   "outputs": [
    {
     "name": "stdout",
     "output_type": "stream",
     "text": [
      "Training set accuracy using flda: 0.7299618320610687\n",
      "Training set f1 score using flda: 0.7631799163179916\n",
      "Test set accuracy using flda: 0.7748091603053435\n",
      "Test set f1 score using flda: 0.7915194346289753\n"
     ]
    }
   ],
   "source": [
    "\n",
    "model1 = flda(num_classes=2)\n",
    "model1.train(X_train_scaled,y_train)\n",
    "y_train_pred=model.predict(X_train_scaled)\n",
    "print('Training set accuracy using flda:',metrics.accuracy_score(y_train, y_train_pred))\n",
    "print('Training set f1 score using flda:',metrics.f1_score(y_train, y_train_pred))\n",
    "y_test_pred = model.predict(X_test_scaled)\n",
    "print('Test set accuracy using flda:',metrics.accuracy_score(y_test, y_test_pred))\n",
    "print('Test set f1 score using flda:',metrics.f1_score(y_test, y_test_pred))"
   ]
  },
  {
   "cell_type": "markdown",
   "metadata": {},
   "source": [
    "# Perceptron model"
   ]
  },
  {
   "cell_type": "code",
   "execution_count": 28,
   "metadata": {},
   "outputs": [
    {
     "name": "stdout",
     "output_type": "stream",
     "text": [
      "Training set accuracy using percept: 0.6393129770992366\n",
      "Training set f1 score using percept: 0.777122641509434\n",
      "Test set accuracy using perceptron: 0.5763358778625954\n",
      "Test set f1 score using perceptron: 0.7286063569682151\n"
     ]
    }
   ],
   "source": [
    "model = pm.perceptron_model(1, 2, 1)\n",
    "model.fit(X_train, y_train)\n",
    "y_train_pred = model.predict(X_train)\n",
    "y_test_pred = model.predict(X_test)\n",
    "\n",
    "print('Training set accuracy using percept:',metrics.accuracy_score(y_train, y_train_pred))\n",
    "print('Training set f1 score using percept:',metrics.f1_score(y_train, y_train_pred))\n",
    "\n",
    "print('Test set accuracy using perceptron:',metrics.accuracy_score(y_test, y_test_pred))\n",
    "print('Test set f1 score using perceptron:',metrics.f1_score(y_test, y_test_pred))\n",
    "\n"
   ]
  },
  {
   "cell_type": "code",
   "execution_count": 36,
   "metadata": {},
   "outputs": [
    {
     "name": "stdout",
     "output_type": "stream",
     "text": [
      "100\n",
      "Training set accuracy using percept: 0.6393129770992366\n",
      "Training set f1 score using percept: 0.777122641509434\n",
      "Test set accuracy using perceptron: 0.5763358778625954\n",
      "Test set f1 score using perceptron: 0.7286063569682151\n",
      "600\n",
      "Training set accuracy using percept: 0.6297709923664122\n",
      "Training set f1 score using percept: 0.7728337236533958\n",
      "Test set accuracy using perceptron: 0.5725190839694656\n",
      "Test set f1 score using perceptron: 0.7281553398058253\n",
      "1100\n",
      "Training set accuracy using percept: 0.7767175572519084\n",
      "Training set f1 score using percept: 0.8377253814147018\n",
      "Test set accuracy using perceptron: 0.7442748091603053\n",
      "Test set f1 score using perceptron: 0.8080229226361032\n",
      "1600\n",
      "Training set accuracy using percept: 0.7681297709923665\n",
      "Training set f1 score using percept: 0.840655737704918\n",
      "Test set accuracy using perceptron: 0.7137404580152672\n",
      "Test set f1 score using perceptron: 0.7945205479452055\n",
      "2100\n",
      "Training set accuracy using percept: 0.7862595419847328\n",
      "Training set f1 score using percept: 0.8457300275482093\n",
      "Test set accuracy using perceptron: 0.7519083969465649\n",
      "Test set f1 score using perceptron: 0.8126801152737751\n",
      "2600\n",
      "Training set accuracy using percept: 0.7881679389312977\n",
      "Training set f1 score using percept: 0.8400576368876082\n",
      "Test set accuracy using perceptron: 0.7519083969465649\n",
      "Test set f1 score using perceptron: 0.8071216617210684\n",
      "3100\n",
      "Training set accuracy using percept: 0.7776717557251909\n",
      "Training set f1 score using percept: 0.8460013218770654\n",
      "Test set accuracy using perceptron: 0.7251908396946565\n",
      "Test set f1 score using perceptron: 0.7999999999999999\n",
      "3600\n",
      "Training set accuracy using percept: 0.6297709923664122\n",
      "Training set f1 score using percept: 0.7728337236533958\n",
      "Test set accuracy using perceptron: 0.5725190839694656\n",
      "Test set f1 score using perceptron: 0.7281553398058253\n",
      "4100\n",
      "Training set accuracy using percept: 0.7948473282442748\n",
      "Training set f1 score using percept: 0.845656855707107\n",
      "Test set accuracy using perceptron: 0.7595419847328244\n",
      "Test set f1 score using perceptron: 0.8141592920353983\n",
      "4600\n",
      "Training set accuracy using percept: 0.7757633587786259\n",
      "Training set f1 score using percept: 0.8461034708578913\n",
      "Test set accuracy using perceptron: 0.7251908396946565\n",
      "Test set f1 score using perceptron: 0.8011049723756907\n",
      "5100\n",
      "Training set accuracy using percept: 0.7843511450381679\n",
      "Training set f1 score using percept: 0.850132625994695\n",
      "Test set accuracy using perceptron: 0.7366412213740458\n",
      "Test set f1 score using perceptron: 0.8067226890756302\n",
      "5600\n",
      "Training set accuracy using percept: 0.7652671755725191\n",
      "Training set f1 score using percept: 0.8412903225806452\n",
      "Test set accuracy using perceptron: 0.7022900763358778\n",
      "Test set f1 score using perceptron: 0.7880434782608696\n",
      "6100\n",
      "Training set accuracy using percept: 0.7967557251908397\n",
      "Training set f1 score using percept: 0.849894291754757\n",
      "Test set accuracy using perceptron: 0.7519083969465649\n",
      "Test set f1 score using perceptron: 0.8093841642228738\n",
      "6600\n",
      "Training set accuracy using percept: 0.6574427480916031\n",
      "Training set f1 score using percept: 0.7859272510435301\n",
      "Test set accuracy using perceptron: 0.583969465648855\n",
      "Test set f1 score using perceptron: 0.7321867321867322\n",
      "7100\n",
      "Training set accuracy using percept: 0.6393129770992366\n",
      "Training set f1 score using percept: 0.777122641509434\n",
      "Test set accuracy using perceptron: 0.5801526717557252\n",
      "Test set f1 score using perceptron: 0.7317073170731707\n",
      "7600\n",
      "Training set accuracy using percept: 0.6297709923664122\n",
      "Training set f1 score using percept: 0.7728337236533958\n",
      "Test set accuracy using perceptron: 0.5725190839694656\n",
      "Test set f1 score using perceptron: 0.7281553398058253\n",
      "8100\n",
      "Training set accuracy using percept: 0.6297709923664122\n",
      "Training set f1 score using percept: 0.7728337236533958\n",
      "Test set accuracy using perceptron: 0.5725190839694656\n",
      "Test set f1 score using perceptron: 0.7281553398058253\n",
      "8600\n",
      "Training set accuracy using percept: 0.6345419847328244\n",
      "Training set f1 score using percept: 0.7751027598355843\n",
      "Test set accuracy using perceptron: 0.5763358778625954\n",
      "Test set f1 score using perceptron: 0.7299270072992701\n",
      "9100\n",
      "Training set accuracy using percept: 0.6345419847328244\n",
      "Training set f1 score using percept: 0.7751027598355843\n",
      "Test set accuracy using perceptron: 0.5763358778625954\n",
      "Test set f1 score using perceptron: 0.7299270072992701\n",
      "9600\n",
      "Training set accuracy using percept: 0.6297709923664122\n",
      "Training set f1 score using percept: 0.7728337236533958\n",
      "Test set accuracy using perceptron: 0.5725190839694656\n",
      "Test set f1 score using perceptron: 0.7281553398058253\n"
     ]
    },
    {
     "data": {
      "image/png": "[encoded data removed]",
      "text/plain": [
       "<Figure size 432x288 with 1 Axes>"
      ]
     },
     "metadata": {},
     "output_type": "display_data"
    }
   ],
   "source": [
    "accuracy = []\n",
    "best_acc = 0\n",
    "best_iter = 0\n",
    "for i in range(100, 10000, 500):\n",
    "    print (i)\n",
    "    model = pm.perceptron_model(i, 2, 1)\n",
    "    model.fit(X_train, y_train)\n",
    "    y_test_pred = model.predict(X_test)\n",
    "    y_train_pred=model.predict(X_train)\n",
    "    accuracy.append(pu.model_accuracy(y_test_pred, y_test))\n",
    "    if(pu.model_accuracy(y_test_pred, y_test) > best_acc):\n",
    "        best_acc = pu.model_accuracy(y_test_pred, y_test)\n",
    "        best_iter = i\n",
    "        \n",
    "    print('Training set accuracy using percept:',metrics.accuracy_score(y_train, y_train_pred))\n",
    "    print('Training set f1 score using percept:',metrics.f1_score(y_train, y_train_pred))\n",
    "\n",
    "    print('Test set accuracy using perceptron:',metrics.accuracy_score(y_test, y_test_pred))\n",
    "    print('Test set f1 score using perceptron:',metrics.f1_score(y_test, y_test_pred))\n",
    "\n",
    "\n",
    "plt.figure()\n",
    "plt.plot(np.arange(len(accuracy)), accuracy)\n",
    "plt.xlabel(\"Number of Iterations\")\n",
    "plt.ylabel(\"accuracy\")\n",
    "plt.savefig(\"perceptron_accuracy.png\")"
   ]
  },
  {
   "cell_type": "markdown",
   "metadata": {},
   "source": [
    "## perceptron om sclaed data"
   ]
  },
  {
   "cell_type": "code",
   "execution_count": null,
   "metadata": {},
   "outputs": [],
   "source": [
    "model = pm.perceptron_model(1, 2, 1)\n",
    "model.fit(X_train_scaled, y_train)\n",
    "y_train_pred = model.predict(X_train_scaled)\n",
    "y_test_pred = model.predict(X_test_scaled)\n",
    "\n",
    "print('Training set accuracy using percept:',metrics.accuracy_score(y_train, y_train_pred))\n",
    "print('Training set f1 score using percept:',metrics.f1_score(y_train, y_train_pred))\n",
    "\n",
    "print('Test set accuracy using perceptron:',metrics.accuracy_score(y_test, y_test_pred))\n",
    "print('Test set f1 score using perceptron:',metrics.f1_score(y_test, y_test_pred))"
   ]
  },
  {
   "cell_type": "markdown",
   "metadata": {},
   "source": [
    "# svm "
   ]
  },
  {
   "cell_type": "code",
   "execution_count": 30,
   "metadata": {},
   "outputs": [
    {
     "name": "stderr",
     "output_type": "stream",
     "text": [
      "/home/harsh/.conda/envs/py35/lib/python3.5/site-packages/sklearn/utils/validation.py:578: DataConversionWarning: A column-vector y was passed when a 1d array was expected. Please change the shape of y to (n_samples, ), for example using ravel().\n",
      "  y = column_or_1d(y, warn=True)\n"
     ]
    },
    {
     "name": "stdout",
     "output_type": "stream",
     "text": [
      "linear\n",
      "Training set accuracy using linear 0.7843511450381679\n",
      "Training set f1 score using linear 0.8308383233532934\n",
      "Test set accuracy using linear 0.7595419847328244\n",
      "Test set f1 score using linear 0.8012618296529969\n",
      "rbf\n",
      "Training set accuracy using rbf 0.8215648854961832\n",
      "Training set f1 score using rbf 0.8628026412325753\n",
      "Test set accuracy using rbf 0.7557251908396947\n",
      "Test set f1 score using rbf 0.8036809815950918\n"
     ]
    }
   ],
   "source": [
    "#kernels = ['linear', 'rbf', 'poly', 'sigmoid']\n",
    "kernels = ['linear', 'rbf']\n",
    "for ker in kernels:\n",
    "    model = svm.SVC(kernel = ker)\n",
    "    model.fit(X_train, y_train)\n",
    "    y_train_pred = model.predict(X_train)\n",
    "    y_test_pred = model.predict(X_test)\n",
    "    \n",
    "    print(ker)\n",
    "    print('Training set accuracy using '+ker,metrics.accuracy_score(y_train, y_train_pred))\n",
    "    print('Training set f1 score using '+ker,metrics.f1_score(y_train, y_train_pred))\n",
    "\n",
    "    print('Test set accuracy using '+ ker,metrics.accuracy_score(y_test, y_test_pred))\n",
    "    print('Test set f1 score using '+ker,metrics.f1_score(y_test, y_test_pred))\n"
   ]
  },
  {
   "cell_type": "markdown",
   "metadata": {},
   "source": [
    "# svm on scaled data"
   ]
  },
  {
   "cell_type": "markdown",
   "metadata": {},
   "source": [
    "# softmax logistic regression"
   ]
  },
  {
   "cell_type": "code",
   "execution_count": 30,
   "metadata": {},
   "outputs": [],
   "source": [
    "from matplotlib import pyplot as plt"
   ]
  },
  {
   "cell_type": "code",
   "execution_count": 31,
   "metadata": {
    "scrolled": true
   },
   "outputs": [
    {
     "name": "stderr",
     "output_type": "stream",
     "text": [
      "/home/harsh/Desktop/ell_assmt/ell_Assin_2/softmax_logit.py:54: RuntimeWarning: invalid value encountered in true_divide\n",
      "  sm = (np.exp(z).T / np.sum(np.exp(z),axis=1)).T\n"
     ]
    },
    {
     "data": {
      "image/png": "[encoded data removed]",
      "text/plain": [
       "<Figure size 432x288 with 1 Axes>"
      ]
     },
     "metadata": {},
     "output_type": "display_data"
    },
    {
     "name": "stdout",
     "output_type": "stream",
     "text": [
      "Training set accuracy using sm: 0.3702290076335878\n",
      "Training set f1 score using sm: 0.0\n",
      "Test set accuracy using sm: 0.42748091603053434\n",
      "Test set f1 score using sm: 0.0\n"
     ]
    },
    {
     "name": "stderr",
     "output_type": "stream",
     "text": [
      "/home/harsh/.conda/envs/py35/lib/python3.5/site-packages/sklearn/metrics/classification.py:1135: UndefinedMetricWarning: F-score is ill-defined and being set to 0.0 due to no predicted samples.\n",
      "  'precision', 'predicted', average, warn_for)\n"
     ]
    }
   ],
   "source": [
    "model = sml.softmaxLogit()\n",
    "model.train(X_train, y_train)\n",
    "y_train_pred = model.predict(X_train)\n",
    "y_test_pred = model.predict(X_test)\n",
    "\n",
    "print('Training set accuracy using sm:',metrics.accuracy_score(y_train, y_train_pred))\n",
    "print('Training set f1 score using sm:',metrics.f1_score(y_train, y_train_pred))\n",
    "\n",
    "print('Test set accuracy using sm:',metrics.accuracy_score(y_test, y_test_pred))\n",
    "print('Test set f1 score using sm:',metrics.f1_score(y_test, y_test_pred))\n"
   ]
  },
  {
   "cell_type": "code",
   "execution_count": 32,
   "metadata": {},
   "outputs": [
    {
     "data": {
      "image/png": "[encoded data removed]",
      "text/plain": [
       "<Figure size 432x288 with 1 Axes>"
      ]
     },
     "metadata": {},
     "output_type": "display_data"
    },
    {
     "name": "stdout",
     "output_type": "stream",
     "text": [
      "Training set accuracy using sm: 0.3702290076335878\n",
      "Training set f1 score using sm: 0.0\n",
      "Test set accuracy using sm: 0.42748091603053434\n",
      "Test set f1 score using sm: 0.0\n"
     ]
    },
    {
     "name": "stderr",
     "output_type": "stream",
     "text": [
      "/home/harsh/.conda/envs/py35/lib/python3.5/site-packages/sklearn/metrics/classification.py:1135: UndefinedMetricWarning: F-score is ill-defined and being set to 0.0 due to no predicted samples.\n",
      "  'precision', 'predicted', average, warn_for)\n"
     ]
    }
   ],
   "source": [
    "model = sml.softmaxLogit()\n",
    "model.train(X_train_scaled, y_train)\n",
    "y_train_pred = model.predict(X_train_scaled)\n",
    "y_test_pred = model.predict(X_test_scaled)\n",
    "\n",
    "print('Training set accuracy using sm:',metrics.accuracy_score(y_train, y_train_pred))\n",
    "print('Training set f1 score using sm:',metrics.f1_score(y_train, y_train_pred))\n",
    "\n",
    "print('Test set accuracy using sm:',metrics.accuracy_score(y_test, y_test_pred))\n",
    "print('Test set f1 score using sm:',metrics.f1_score(y_test, y_test_pred))\n"
   ]
  },
  {
   "cell_type": "code",
   "execution_count": 33,
   "metadata": {},
   "outputs": [
    {
     "data": {
      "text/plain": [
       "(1048,)"
      ]
     },
     "execution_count": 33,
     "metadata": {},
     "output_type": "execute_result"
    }
   ],
   "source": [
    "y_train_pred.shape"
   ]
  },
  {
   "cell_type": "code",
   "execution_count": 34,
   "metadata": {
    "scrolled": true
   },
   "outputs": [
    {
     "name": "stderr",
     "output_type": "stream",
     "text": [
      "/home/harsh/Desktop/ell_assmt/ell_Assin_2/log_model.py:29: RuntimeWarning: divide by zero encountered in log\n",
      "  return (-y * np.log(h) - (1 - y) * np.log(1 - h)).mean()\n",
      "/home/harsh/Desktop/ell_assmt/ell_Assin_2/log_model.py:29: RuntimeWarning: invalid value encountered in multiply\n",
      "  return (-y * np.log(h) - (1 - y) * np.log(1 - h)).mean()\n"
     ]
    },
    {
     "data": {
      "image/png": "[encoded data removed]",
      "text/plain": [
       "<Figure size 432x288 with 1 Axes>"
      ]
     },
     "metadata": {},
     "output_type": "display_data"
    },
    {
     "name": "stdout",
     "output_type": "stream",
     "text": [
      "Training set accuracy using sm: 0.6297709923664122\n",
      "Training set f1 score using sm: 0.7728337236533958\n",
      "Test set accuracy using sm: 0.5725190839694656\n",
      "Test set f1 score using sm: 0.7281553398058253\n"
     ]
    }
   ],
   "source": [
    "model = logm.LogitModel()\n",
    "model.train(X_train, y_train.ravel())\n",
    "y_train_pred = model.predict(X_train,0.5)\n",
    "y_test_pred = model.predict(X_test,0.5)\n",
    "\n",
    "print('Training set accuracy using sm:',metrics.accuracy_score(y_train, y_train_pred))\n",
    "print('Training set f1 score using sm:',metrics.f1_score(y_train, y_train_pred))\n",
    "\n",
    "print('Test set accuracy using sm:',metrics.accuracy_score(y_test, y_test_pred))\n",
    "print('Test set f1 score using sm:',metrics.f1_score(y_test, y_test_pred))"
   ]
  },
  {
   "cell_type": "code",
   "execution_count": 35,
   "metadata": {},
   "outputs": [
    {
     "data": {
      "image/png": "[encoded data removed]",
      "text/plain": [
       "<Figure size 432x288 with 1 Axes>"
      ]
     },
     "metadata": {},
     "output_type": "display_data"
    },
    {
     "name": "stdout",
     "output_type": "stream",
     "text": [
      "Training set accuracy using sm: 0.7929389312977099\n",
      "Training set f1 score using sm: 0.8403237674760853\n",
      "Test set accuracy using sm: 0.7862595419847328\n",
      "Test set f1 score using sm: 0.8271604938271604\n"
     ]
    }
   ],
   "source": [
    "model = logm.LogitModel()\n",
    "model.train(X_train_scaled, y_train.ravel())\n",
    "y_train_pred = model.predict(X_train_scaled,0.5)\n",
    "y_test_pred = model.predict(X_test_scaled,0.5)\n",
    "\n",
    "print('Training set accuracy using sm:',metrics.accuracy_score(y_train, y_train_pred))\n",
    "print('Training set f1 score using sm:',metrics.f1_score(y_train, y_train_pred))\n",
    "\n",
    "print('Test set accuracy using sm:',metrics.accuracy_score(y_test, y_test_pred))\n",
    "print('Test set f1 score using sm:',metrics.f1_score(y_test, y_test_pred))"
   ]
  },
  {
   "cell_type": "code",
   "execution_count": null,
   "metadata": {},
   "outputs": [],
   "source": [
    "X_train.shape"
   ]
  },
  {
   "cell_type": "code",
   "execution_count": null,
   "metadata": {},
   "outputs": [],
   "source": [
    "y_train.shape"
   ]
  },
  {
   "cell_type": "code",
   "execution_count": 37,
   "metadata": {},
   "outputs": [
    {
     "data": {
      "image/png": "[encoded data removed]",
      "text/plain": [
       "<Figure size 432x288 with 1 Axes>"
      ]
     },
     "metadata": {},
     "output_type": "display_data"
    },
    {
     "name": "stdout",
     "output_type": "stream",
     "text": [
      "Training set accuracy using sm: 0.7929389312977099\n",
      "Training set f1 score using sm: 0.8403237674760853\n",
      "Test set accuracy using sm: 0.7862595419847328\n",
      "Test set f1 score using sm: 0.8271604938271604\n"
     ]
    }
   ],
   "source": [
    "model = logm.LogitModel(Lambda=1,num_iter = 10000)\n",
    "model.train(X_train_scaled, y_train.ravel())\n",
    "y_train_pred = model.predict(X_train_scaled,0.5)\n",
    "y_test_pred = model.predict(X_test_scaled,0.5)\n",
    "\n",
    "print('Training set accuracy using sm:',metrics.accuracy_score(y_train, y_train_pred))\n",
    "print('Training set f1 score using sm:',metrics.f1_score(y_train, y_train_pred))\n",
    "\n",
    "print('Test set accuracy using sm:',metrics.accuracy_score(y_test, y_test_pred))\n",
    "print('Test set f1 score using sm:',metrics.f1_score(y_test, y_test_pred))"
   ]
  },
  {
   "cell_type": "code",
   "execution_count": 41,
   "metadata": {},
   "outputs": [
    {
     "data": {
      "image/png": "[encoded data removed]",
      "text/plain": [
       "<Figure size 432x288 with 1 Axes>"
      ]
     },
     "metadata": {},
     "output_type": "display_data"
    },
    {
     "name": "stdout",
     "output_type": "stream",
     "text": [
      "Training set accuracy using sm: 0.7833969465648855\n",
      "Training set f1 score using sm: 0.8297074268567143\n",
      "Test set accuracy using sm: 0.7709923664122137\n",
      "Test set f1 score using sm: 0.8113207547169812\n"
     ]
    }
   ],
   "source": [
    "model = logm.LogitModel(Lambda=0,num_iter = 10001, alpha = 0.001)\n",
    "model.train(X_train_scaled, y_train.ravel())\n",
    "y_train_pred = model.predict(X_train_scaled,0.5)\n",
    "y_test_pred = model.predict(X_test_scaled,0.5)\n",
    "\n",
    "print('Training set accuracy using sm:',metrics.accuracy_score(y_train, y_train_pred))\n",
    "print('Training set f1 score using sm:',metrics.f1_score(y_train, y_train_pred))\n",
    "\n",
    "print('Test set accuracy using sm:',metrics.accuracy_score(y_test, y_test_pred))\n",
    "print('Test set f1 score using sm:',metrics.f1_score(y_test, y_test_pred))"
   ]
  },
  {
   "cell_type": "code",
   "execution_count": null,
   "metadata": {},
   "outputs": [],
   "source": []
  }
 ],
 "metadata": {
  "kernelspec": {
   "display_name": "Python 3",
   "language": "python",
   "name": "python3"
  },
  "language_info": {
   "codemirror_mode": {
    "name": "ipython",
    "version": 3
   },
   "file_extension": ".py",
   "mimetype": "text/x-python",
   "name": "python",
   "nbconvert_exporter": "python",
   "pygments_lexer": "ipython3",
   "version": "3.5.5"
  }
 },
 "nbformat": 4,
 "nbformat_minor": 2
}
