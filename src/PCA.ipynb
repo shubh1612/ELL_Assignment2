{
 "cells": [
  {
   "cell_type": "code",
   "execution_count": 110,
   "metadata": {},
   "outputs": [],
   "source": [
    "import numpy as np\n",
    "\n",
    "class PCA:\n",
    "     \n",
    "    def _init_(self, n_components = 3):\n",
    "        self.n_components = n_components\n",
    "\n",
    "    def _mean(self):\n",
    "        [m, n] = np.shape(self.X)\n",
    "        return (np.sum(self.X, axis = 0))/m\n",
    "        \n",
    "    def _sigma(self):\n",
    "        variance = np.var(self.X, axis = 0)\n",
    "        sigma = np.sqrt(variance)\n",
    "        return sigma\n",
    "        \n",
    "    def _normalize(self):\n",
    "        [m, n] = np.shape(self.X)\n",
    "        mu = self._mean()\n",
    "        sigma = self._sigma()\n",
    "        X_norm = (self.X - mu)/sigma\n",
    "        return X_norm\n",
    "    \n",
    "    def _covariance(self, X_norm):\n",
    "        [m, n] = np.shape(X_norm)        \n",
    "        return (np.matmul(np.transpose(X_norm), X_norm))/m\n",
    "    \n",
    "    def _svd(self, covariance):\n",
    "        return np.linalg.svd(covariance)\n",
    "    \n",
    "    def _projectData(self, X_norm, U):\n",
    "        k = self.n_components\n",
    "        return np.matmul(X_norm, U[:, 1:k+1])\n",
    "        \n",
    "    def reduction(self, X_train, n_components):\n",
    "        self.X = X_train\n",
    "        self.n_components = n_components\n",
    "        X_norm = self._normalize()\n",
    "        covariance = self._covariance(X_norm)\n",
    "        [U, S, V] = self._svd(covariance)\n",
    "        X_project = self._projectData(X_norm, U)\n",
    "        return X_project"
   ]
  },
  {
   "cell_type": "code",
   "execution_count": 114,
   "metadata": {},
   "outputs": [
    {
     "name": "stdout",
     "output_type": "stream",
     "text": [
      "[[ 1.11022302e-16]\n",
      " [ 0.00000000e+00]\n",
      " [-1.11022302e-16]]\n"
     ]
    }
   ],
   "source": [
    "A = [[1, 1], [4, 4], [7, 7]]\n",
    "pca = PCA()\n",
    "print(pca.reduction(A, 1))"
   ]
  },
  {
   "cell_type": "code",
   "execution_count": null,
   "metadata": {},
   "outputs": [],
   "source": []
  }
 ],
 "metadata": {
  "kernelspec": {
   "display_name": "ML",
   "language": "python",
   "name": "ml"
  },
  "language_info": {
   "codemirror_mode": {
    "name": "ipython",
    "version": 3
   },
   "file_extension": ".py",
   "mimetype": "text/x-python",
   "name": "python",
   "nbconvert_exporter": "python",
   "pygments_lexer": "ipython3",
   "version": "3.6.5"
  }
 },
 "nbformat": 4,
 "nbformat_minor": 2
}
