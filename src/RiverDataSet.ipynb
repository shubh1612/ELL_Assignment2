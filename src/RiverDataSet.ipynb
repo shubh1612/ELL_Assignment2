{
 "cells": [
  {
   "cell_type": "code",
   "execution_count": 8,
   "metadata": {},
   "outputs": [
    {
     "name": "stdout",
     "output_type": "stream",
     "text": [
      "module://ipympl.backend_nbagg\n"
     ]
    }
   ],
   "source": [
    "import numpy as np\n",
    "import pandas as pd\n",
    "\n",
    "import ipympl\n",
    "import matplotlib\n",
    "import matplotlib.pyplot as plt\n",
    "import matplotlib.cm as cm\n",
    "from mpl_toolkits.mplot3d import Axes3D\n",
    "from sklearn.metrics import r2_score\n",
    "\n",
    "print(matplotlib.get_backend())\n",
    "\n",
    "import data_util as du\n",
    "import performance_util as pu\n",
    "import linear_model as lm"
   ]
  },
  {
   "cell_type": "code",
   "execution_count": 9,
   "metadata": {},
   "outputs": [],
   "source": [
    "data_dir = '../data/river_data.csv'\n",
    "random_seed = 1\n",
    "np.set_printoptions(precision=4)"
   ]
  },
  {
   "cell_type": "code",
   "execution_count": 10,
   "metadata": {},
   "outputs": [
    {
     "name": "stdout",
     "output_type": "stream",
     "text": [
      "(10000, 1)\n",
      "(10000, 1)\n",
      "[50.0466]\n",
      "(7500, 1)\n",
      "(7500, 1)\n",
      "(2500, 1)\n",
      "(2500, 1)\n"
     ]
    },
    {
     "name": "stderr",
     "output_type": "stream",
     "text": [
      "F:\\Study\\7th Sem\\ELL 409\\Assignment 2\\ELL_Assignment2\\src\\data_util.py:70: FutureWarning: Method .as_matrix will be removed in a future version. Use .values instead.\n",
      "  X = df[['x']].as_matrix()\n",
      "F:\\Study\\7th Sem\\ELL 409\\Assignment 2\\ELL_Assignment2\\src\\data_util.py:72: FutureWarning: Method .as_matrix will be removed in a future version. Use .values instead.\n",
      "  Y = df[['levels']].as_matrix()\n"
     ]
    },
    {
     "data": {
      "application/vnd.jupyter.widget-view+json": {
       "model_id": "70a84e1512a346088933258464f2b6a1",
       "version_major": 2,
       "version_minor": 0
      },
      "text/plain": [
       "FigureCanvasNbAgg()"
      ]
     },
     "metadata": {},
     "output_type": "display_data"
    }
   ],
   "source": [
    "X_train, Y_train = du.load_river(data_dir)\n",
    "print(X_train.shape)\n",
    "print(Y_train.shape)\n",
    "\n",
    "X_train, Y_train, X_test, Y_test = du.split_data(X_train, Y_train, train_ratio = 0.75, random_state = random_seed)\n",
    "print(X_train[0])\n",
    "print(X_train.shape)\n",
    "print(Y_train.shape)\n",
    "print(X_test.shape)\n",
    "print(Y_test.shape)\n",
    "plt.plot(X_train, Y_train)\n",
    "plt.xlabel(\"Value of x\")\n",
    "plt.ylabel(\"Levels\")\n",
    "plt.savefig(\"Images/River_dataset.png\")\n",
    "plt.show()"
   ]
  },
  {
   "cell_type": "code",
   "execution_count": 11,
   "metadata": {},
   "outputs": [
    {
     "name": "stdout",
     "output_type": "stream",
     "text": [
      "[2504.6666]\n",
      "(7500, 1)\n",
      "(7500, 1)\n",
      "(2500, 1)\n",
      "(2500, 1)\n"
     ]
    },
    {
     "data": {
      "application/vnd.jupyter.widget-view+json": {
       "model_id": "0fc5cb2b18bd4b7dac80c6806cb4e91f",
       "version_major": 2,
       "version_minor": 0
      },
      "text/plain": [
       "FigureCanvasNbAgg()"
      ]
     },
     "metadata": {},
     "output_type": "display_data"
    }
   ],
   "source": [
    "X_train_squared = X_train**2\n",
    "X_test_squared = X_test**2\n",
    "print(X_train_squared[0])\n",
    "print(X_train.shape)\n",
    "print(Y_train.shape)\n",
    "print(X_test.shape)\n",
    "print(Y_test.shape)\n",
    "plt.plot(X_train_squared, Y_train)\n",
    "plt.xlabel(\"Value of x\")\n",
    "plt.ylabel(\"Levels\")\n",
    "plt.savefig(\"Images/River_dataset_squared.png\")\n",
    "plt.show()"
   ]
  },
  {
   "cell_type": "code",
   "execution_count": 12,
   "metadata": {},
   "outputs": [
    {
     "name": "stdout",
     "output_type": "stream",
     "text": [
      "[2454.62]\n",
      "(7500, 1)\n",
      "(7500, 1)\n",
      "(2500, 1)\n",
      "(2500, 1)\n"
     ]
    },
    {
     "data": {
      "application/vnd.jupyter.widget-view+json": {
       "model_id": "0aa19e4007b94a82844cba5a2d886184",
       "version_major": 2,
       "version_minor": 0
      },
      "text/plain": [
       "FigureCanvasNbAgg()"
      ]
     },
     "metadata": {},
     "output_type": "display_data"
    }
   ],
   "source": [
    "X_train_new = X_train_squared - X_train\n",
    "X_test_new = X_test_squared - X_test\n",
    "print(X_train_new[0])\n",
    "print(X_train_new.shape)\n",
    "print(Y_train.shape)\n",
    "print(X_test_new.shape)\n",
    "print(Y_test.shape)\n",
    "plt.plot(X_train_new, Y_train)\n",
    "plt.xlabel(\"Value of x\")\n",
    "plt.ylabel(\"Levels\")\n",
    "plt.savefig(\"Images/River_dataset_squared_new.png\")\n",
    "plt.show()"
   ]
  },
  {
   "cell_type": "code",
   "execution_count": 13,
   "metadata": {},
   "outputs": [
    {
     "name": "stdout",
     "output_type": "stream",
     "text": [
      "[7.0744]\n",
      "(7500, 1)\n",
      "(7500, 1)\n",
      "(2500, 1)\n",
      "(2500, 1)\n"
     ]
    },
    {
     "data": {
      "application/vnd.jupyter.widget-view+json": {
       "model_id": "48746e48c39540c79a431d4e33c04397",
       "version_major": 2,
       "version_minor": 0
      },
      "text/plain": [
       "FigureCanvasNbAgg()"
      ]
     },
     "metadata": {},
     "output_type": "display_data"
    }
   ],
   "source": [
    "X_train_root = np.sqrt(X_train.clip(min = 0))\n",
    "X_test_root = np.sqrt(X_test.clip(min = 0))\n",
    "print(X_train_root[0])\n",
    "print(X_train_root.shape)\n",
    "print(Y_train.shape)\n",
    "print(X_test_root.shape)\n",
    "print(Y_test.shape)\n",
    "plt.plot(X_train_root, Y_train)\n",
    "plt.xlabel(\"Value of x\")\n",
    "plt.ylabel(\"Levels\")\n",
    "plt.savefig(\"Images/River_dataset_root.png\")\n",
    "plt.show()"
   ]
  },
  {
   "cell_type": "code",
   "execution_count": 14,
   "metadata": {},
   "outputs": [
    {
     "name": "stdout",
     "output_type": "stream",
     "text": [
      "[42.9723]\n",
      "(7500, 1)\n",
      "(7500, 1)\n",
      "(2500, 1)\n",
      "(2500, 1)\n"
     ]
    },
    {
     "data": {
      "application/vnd.jupyter.widget-view+json": {
       "model_id": "988bc7685d074afa80aa52bb53c1371b",
       "version_major": 2,
       "version_minor": 0
      },
      "text/plain": [
       "FigureCanvasNbAgg()"
      ]
     },
     "metadata": {},
     "output_type": "display_data"
    }
   ],
   "source": [
    "X_train_new_2 = X_train - X_train_root \n",
    "X_test_new_2 = X_test - X_test_root\n",
    "print(X_train_new_2[0])\n",
    "print(X_train_new_2.shape)\n",
    "print(Y_train.shape)\n",
    "print(X_test_new_2.shape)\n",
    "print(Y_test.shape)\n",
    "plt.plot(X_train_new_2, Y_train)\n",
    "plt.xlabel(\"Value of x\")\n",
    "plt.ylabel(\"Levels\")\n",
    "plt.savefig(\"Images/River_dataset_new_2.png\")\n",
    "plt.show()"
   ]
  },
  {
   "cell_type": "code",
   "execution_count": 15,
   "metadata": {},
   "outputs": [
    {
     "name": "stdout",
     "output_type": "stream",
     "text": [
      "[5.4323e+21]\n",
      "(7500, 1)\n",
      "(7500, 1)\n",
      "(2500, 1)\n",
      "(2500, 1)\n"
     ]
    },
    {
     "data": {
      "application/vnd.jupyter.widget-view+json": {
       "model_id": "06a0b81e660047de87f7661cc7809d8c",
       "version_major": 2,
       "version_minor": 0
      },
      "text/plain": [
       "FigureCanvasNbAgg()"
      ]
     },
     "metadata": {},
     "output_type": "display_data"
    }
   ],
   "source": [
    "X_train_exp = np.exp(X_train)\n",
    "X_test_exp = np.exp(X_test)\n",
    "print(X_train_exp[0])\n",
    "print(X_train_exp.shape)\n",
    "print(Y_train.shape)\n",
    "print(X_test_exp.shape)\n",
    "print(Y_test.shape)\n",
    "plt.plot(X_train_exp, Y_train)\n",
    "plt.xlabel(\"Value of x\")\n",
    "plt.ylabel(\"Levels\")\n",
    "plt.savefig(\"Images/River_dataset_exp.png\")\n",
    "plt.show()"
   ]
  },
  {
   "cell_type": "code",
   "execution_count": 16,
   "metadata": {},
   "outputs": [
    {
     "name": "stdout",
     "output_type": "stream",
     "text": [
      "[1.6994]\n",
      "(7500, 1)\n",
      "(7500, 1)\n",
      "(2500, 1)\n",
      "(2500, 1)\n"
     ]
    },
    {
     "data": {
      "application/vnd.jupyter.widget-view+json": {
       "model_id": "ef6ac53eb5034309b1a6acf2ca558683",
       "version_major": 2,
       "version_minor": 0
      },
      "text/plain": [
       "FigureCanvasNbAgg()"
      ]
     },
     "metadata": {},
     "output_type": "display_data"
    }
   ],
   "source": [
    "X_train_log = np.log10(X_train.clip(min = 0))\n",
    "X_test_log = np.log10(X_test.clip(min = 0))\n",
    "print(X_train_log[0])\n",
    "print(X_train_log.shape)\n",
    "print(Y_train.shape)\n",
    "print(X_test_log.shape)\n",
    "print(Y_test.shape)\n",
    "plt.plot(X_train_log, Y_train)\n",
    "plt.xlabel(\"Value of x\")\n",
    "plt.ylabel(\"Levels\")\n",
    "plt.savefig(\"Images/River_dataset_log.png\")\n",
    "plt.show()"
   ]
  },
  {
   "cell_type": "markdown",
   "metadata": {},
   "source": [
    "## Plotting X and X-Squared with Y on a 3D Plot"
   ]
  },
  {
   "cell_type": "code",
   "execution_count": 55,
   "metadata": {},
   "outputs": [
    {
     "name": "stderr",
     "output_type": "stream",
     "text": [
      "f:\\study\\projects\\btp\\btp\\lib\\site-packages\\matplotlib\\pyplot.py:522: RuntimeWarning: More than 20 figures have been opened. Figures created through the pyplot interface (`matplotlib.pyplot.figure`) are retained until explicitly closed and may consume too much memory. (To control this warning, see the rcParam `figure.max_open_warning`).\n",
      "  max_open_warning, RuntimeWarning)\n"
     ]
    }
   ],
   "source": [
    "X_train_prime = np.hstack((X_train, X_train_squared))\n",
    "X_test_prime = np.hstack((X_test, X_test_squared))\n",
    "# X_train_prime = np.hstack((X_train_prime, X_train**3))\n",
    "# X_test_prime = np.hstack((X_test_prime, X_test**3))\n",
    "# X_train_prime = np.hstack((X_train_prime, X_train**4))\n",
    "# X_test_prime = np.hstack((X_test_prime, X_test**4))\n",
    "# X_train_prime = np.hstack((X_train_prime, X_train**5))\n",
    "# X_test_prime = np.hstack((X_test_prime, X_test**5))\n",
    "# X_train_prime = np.hstack((X_train_prime, np.multiply(X_train_squared, X_train_root)))\n",
    "# X_test_prime = np.hstack((X_test_prime, np.multiply(X_test_squared, X_test_root)))\n",
    "\n",
    "fig = plt.figure(figsize=(9,7))\n",
    "\n",
    "ax = Axes3D(fig, rect=[0, 0, 1, 1], elev=60, azim=54)\n",
    "# ax = plt.axes(projection='3d')\n",
    "cax = ax.scatter3D(X_train_prime[:,0], X_train_prime[:,1], Y_train[:,0], c = Y_train[:,0])\n",
    "ax.set_title('Data Distribution')\n",
    "\n",
    "\n",
    "# cax = ax.imshow(X, interpolation='nearest', cmap=cm.coolwarm)\n",
    "cbar = fig.colorbar(cax, ticks=[0, 1, 2], shrink = 0.5)\n",
    "cbar.ax.set_yticklabels(['X', 'X-square', 'Y'])\n",
    "\n",
    "plt.savefig('Images/3D.png')"
   ]
  },
  {
   "cell_type": "markdown",
   "metadata": {},
   "source": [
    "# Linear Regression with different features"
   ]
  },
  {
   "cell_type": "code",
   "execution_count": 56,
   "metadata": {},
   "outputs": [
    {
     "name": "stdout",
     "output_type": "stream",
     "text": [
      "0.12644025550397697\n"
     ]
    }
   ],
   "source": [
    "model = lm.LinearModel(solver = 'ols')\n",
    "model.train(X_train, Y_train)\n",
    "Y_pred = model.predict(X_test)\n",
    "\n",
    "print(r2_score(Y_test, Y_pred))"
   ]
  },
  {
   "cell_type": "code",
   "execution_count": null,
   "metadata": {},
   "outputs": [],
   "source": []
  }
 ],
 "metadata": {
  "kernelspec": {
   "display_name": "BTP",
   "language": "python",
   "name": "btp"
  },
  "language_info": {
   "codemirror_mode": {
    "name": "ipython",
    "version": 3
   },
   "file_extension": ".py",
   "mimetype": "text/x-python",
   "name": "python",
   "nbconvert_exporter": "python",
   "pygments_lexer": "ipython3",
   "version": "3.6.4"
  }
 },
 "nbformat": 4,
 "nbformat_minor": 2
}
