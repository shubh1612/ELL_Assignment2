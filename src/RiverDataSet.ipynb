{
 "cells": [
  {
   "cell_type": "code",
   "execution_count": 1,
   "metadata": {},
   "outputs": [
    {
     "name": "stdout",
     "output_type": "stream",
     "text": [
      "module://ipympl.backend_nbagg\n"
     ]
    }
   ],
   "source": [
    "import numpy as np\n",
    "import pandas as pd\n",
    "\n",
    "import ipympl\n",
    "import matplotlib\n",
    "import matplotlib.pyplot as plt\n",
    "import matplotlib.cm as cm\n",
    "from mpl_toolkits.mplot3d import Axes3D\n",
    "from sklearn.metrics import r2_score\n",
    "\n",
    "print(matplotlib.get_backend())\n",
    "\n",
    "import data_util as du\n",
    "import performance_util as pu\n",
    "import linear_model as lm"
   ]
  },
  {
   "cell_type": "code",
   "execution_count": 2,
   "metadata": {},
   "outputs": [],
   "source": [
    "data_dir = '../data/river_data.csv'\n",
    "random_seed = 1\n",
    "np.set_printoptions(precision=4)"
   ]
  },
  {
   "cell_type": "code",
   "execution_count": 3,
   "metadata": {},
   "outputs": [
    {
     "name": "stderr",
     "output_type": "stream",
     "text": [
      "F:\\Study\\7th Sem\\ELL 409\\Assignment 2\\ELL_Assignment2\\src\\data_util.py:70: FutureWarning: Method .as_matrix will be removed in a future version. Use .values instead.\n",
      "  X = df[['x']].as_matrix()\n",
      "F:\\Study\\7th Sem\\ELL 409\\Assignment 2\\ELL_Assignment2\\src\\data_util.py:72: FutureWarning: Method .as_matrix will be removed in a future version. Use .values instead.\n",
      "  Y = df[['levels']].as_matrix()\n"
     ]
    },
    {
     "name": "stdout",
     "output_type": "stream",
     "text": [
      "(10000, 1)\n",
      "(10000, 1)\n",
      "[50.0466]\n",
      "(7500, 1)\n",
      "(7500, 1)\n",
      "(2500, 1)\n",
      "(2500, 1)\n"
     ]
    },
    {
     "data": {
      "application/vnd.jupyter.widget-view+json": {
       "model_id": "ffe3f8b418da42f49be2c9b71f7ab83c",
       "version_major": 2,
       "version_minor": 0
      },
      "text/plain": [
       "FigureCanvasNbAgg()"
      ]
     },
     "metadata": {},
     "output_type": "display_data"
    }
   ],
   "source": [
    "X_train, Y_train = du.load_river(data_dir)\n",
    "print(X_train.shape)\n",
    "print(Y_train.shape)\n",
    "\n",
    "X_train, Y_train, X_test, Y_test = du.split_data(X_train, Y_train, train_ratio = 0.75, random_state = random_seed)\n",
    "print(X_train[0])\n",
    "print(X_train.shape)\n",
    "print(Y_train.shape)\n",
    "print(X_test.shape)\n",
    "print(Y_test.shape)\n",
    "plt.plot(X_train, Y_train)\n",
    "plt.xlabel(\"Value of x\")\n",
    "plt.ylabel(\"Levels\")\n",
    "plt.savefig(\"Images/River_dataset.png\")\n",
    "plt.show()"
   ]
  },
  {
   "cell_type": "code",
   "execution_count": 4,
   "metadata": {},
   "outputs": [
    {
     "name": "stdout",
     "output_type": "stream",
     "text": [
      "[2504.6666]\n",
      "(7500, 1)\n",
      "(7500, 1)\n",
      "(2500, 1)\n",
      "(2500, 1)\n"
     ]
    },
    {
     "data": {
      "application/vnd.jupyter.widget-view+json": {
       "model_id": "1a90878e2b444e05a83c3fce91adb3a1",
       "version_major": 2,
       "version_minor": 0
      },
      "text/plain": [
       "FigureCanvasNbAgg()"
      ]
     },
     "metadata": {},
     "output_type": "display_data"
    }
   ],
   "source": [
    "X_train_squared = X_train**2\n",
    "X_test_squared = X_test**2\n",
    "print(X_train_squared[0])\n",
    "print(X_train.shape)\n",
    "print(Y_train.shape)\n",
    "print(X_test.shape)\n",
    "print(Y_test.shape)\n",
    "plt.plot(X_train_squared, Y_train)\n",
    "plt.xlabel(\"Value of x\")\n",
    "plt.ylabel(\"Levels\")\n",
    "plt.savefig(\"Images/River_dataset_squared.png\")\n",
    "plt.show()"
   ]
  },
  {
   "cell_type": "code",
   "execution_count": 5,
   "metadata": {},
   "outputs": [
    {
     "name": "stdout",
     "output_type": "stream",
     "text": [
      "[2454.62]\n",
      "(7500, 1)\n",
      "(7500, 1)\n",
      "(2500, 1)\n",
      "(2500, 1)\n"
     ]
    },
    {
     "data": {
      "application/vnd.jupyter.widget-view+json": {
       "model_id": "3ba87a624c6a4dfd89d0df0625307fed",
       "version_major": 2,
       "version_minor": 0
      },
      "text/plain": [
       "FigureCanvasNbAgg()"
      ]
     },
     "metadata": {},
     "output_type": "display_data"
    }
   ],
   "source": [
    "X_train_new = X_train_squared - X_train\n",
    "X_test_new = X_test_squared - X_test\n",
    "print(X_train_new[0])\n",
    "print(X_train_new.shape)\n",
    "print(Y_train.shape)\n",
    "print(X_test_new.shape)\n",
    "print(Y_test.shape)\n",
    "plt.plot(X_train_new, Y_train)\n",
    "plt.xlabel(\"Value of x\")\n",
    "plt.ylabel(\"Levels\")\n",
    "plt.savefig(\"Images/River_dataset_squared_new.png\")\n",
    "plt.show()"
   ]
  },
  {
   "cell_type": "code",
   "execution_count": 6,
   "metadata": {},
   "outputs": [
    {
     "name": "stdout",
     "output_type": "stream",
     "text": [
      "[7.0744]\n",
      "(7500, 1)\n",
      "(7500, 1)\n",
      "(2500, 1)\n",
      "(2500, 1)\n"
     ]
    },
    {
     "data": {
      "application/vnd.jupyter.widget-view+json": {
       "model_id": "33d29acdb0c04f4eaa0c99dd32fa91ae",
       "version_major": 2,
       "version_minor": 0
      },
      "text/plain": [
       "FigureCanvasNbAgg()"
      ]
     },
     "metadata": {},
     "output_type": "display_data"
    }
   ],
   "source": [
    "X_train_root = np.sqrt(X_train.clip(min = 0))\n",
    "X_test_root = np.sqrt(X_test.clip(min = 0))\n",
    "print(X_train_root[0])\n",
    "print(X_train_root.shape)\n",
    "print(Y_train.shape)\n",
    "print(X_test_root.shape)\n",
    "print(Y_test.shape)\n",
    "plt.plot(X_train_root, Y_train)\n",
    "plt.xlabel(\"Value of x\")\n",
    "plt.ylabel(\"Levels\")\n",
    "plt.savefig(\"Images/River_dataset_root.png\")\n",
    "plt.show()"
   ]
  },
  {
   "cell_type": "code",
   "execution_count": 7,
   "metadata": {},
   "outputs": [
    {
     "name": "stdout",
     "output_type": "stream",
     "text": [
      "[42.9723]\n",
      "(7500, 1)\n",
      "(7500, 1)\n",
      "(2500, 1)\n",
      "(2500, 1)\n"
     ]
    },
    {
     "data": {
      "application/vnd.jupyter.widget-view+json": {
       "model_id": "df1386eb89b842ad8795620ac0863307",
       "version_major": 2,
       "version_minor": 0
      },
      "text/plain": [
       "FigureCanvasNbAgg()"
      ]
     },
     "metadata": {},
     "output_type": "display_data"
    }
   ],
   "source": [
    "X_train_new_2 = X_train - X_train_root \n",
    "X_test_new_2 = X_test - X_test_root\n",
    "print(X_train_new_2[0])\n",
    "print(X_train_new_2.shape)\n",
    "print(Y_train.shape)\n",
    "print(X_test_new_2.shape)\n",
    "print(Y_test.shape)\n",
    "plt.plot(X_train_new_2, Y_train)\n",
    "plt.xlabel(\"Value of x\")\n",
    "plt.ylabel(\"Levels\")\n",
    "plt.savefig(\"Images/River_dataset_new_2.png\")\n",
    "plt.show()"
   ]
  },
  {
   "cell_type": "code",
   "execution_count": 8,
   "metadata": {},
   "outputs": [
    {
     "name": "stdout",
     "output_type": "stream",
     "text": [
      "[5.4323e+21]\n",
      "(7500, 1)\n",
      "(7500, 1)\n",
      "(2500, 1)\n",
      "(2500, 1)\n"
     ]
    },
    {
     "data": {
      "application/vnd.jupyter.widget-view+json": {
       "model_id": "ea65e6edc1a847de93a1e668ba6907e7",
       "version_major": 2,
       "version_minor": 0
      },
      "text/plain": [
       "FigureCanvasNbAgg()"
      ]
     },
     "metadata": {},
     "output_type": "display_data"
    }
   ],
   "source": [
    "X_train_exp = np.exp(X_train)\n",
    "X_test_exp = np.exp(X_test)\n",
    "print(X_train_exp[0])\n",
    "print(X_train_exp.shape)\n",
    "print(Y_train.shape)\n",
    "print(X_test_exp.shape)\n",
    "print(Y_test.shape)\n",
    "plt.plot(X_train_exp, Y_train)\n",
    "plt.xlabel(\"Value of x\")\n",
    "plt.ylabel(\"Levels\")\n",
    "plt.savefig(\"Images/River_dataset_exp.png\")\n",
    "plt.show()"
   ]
  },
  {
   "cell_type": "code",
   "execution_count": 9,
   "metadata": {},
   "outputs": [
    {
     "name": "stdout",
     "output_type": "stream",
     "text": [
      "[1.6994]\n",
      "(7500, 1)\n",
      "(7500, 1)\n",
      "(2500, 1)\n",
      "(2500, 1)\n"
     ]
    },
    {
     "data": {
      "application/vnd.jupyter.widget-view+json": {
       "model_id": "3542d1cf23cc4846ac4eac2da8f084ac",
       "version_major": 2,
       "version_minor": 0
      },
      "text/plain": [
       "FigureCanvasNbAgg()"
      ]
     },
     "metadata": {},
     "output_type": "display_data"
    }
   ],
   "source": [
    "X_train_log = np.log10(X_train.clip(min = 0))\n",
    "X_test_log = np.log10(X_test.clip(min = 0))\n",
    "print(X_train_log[0])\n",
    "print(X_train_log.shape)\n",
    "print(Y_train.shape)\n",
    "print(X_test_log.shape)\n",
    "print(Y_test.shape)\n",
    "plt.plot(X_train_log, Y_train)\n",
    "plt.xlabel(\"Value of x\")\n",
    "plt.ylabel(\"Levels\")\n",
    "plt.savefig(\"Images/River_dataset_log.png\")\n",
    "plt.show()"
   ]
  },
  {
   "cell_type": "markdown",
   "metadata": {},
   "source": [
    "## Plotting X and X-Squared with Y on a 3D Plot"
   ]
  },
  {
   "cell_type": "code",
   "execution_count": 10,
   "metadata": {},
   "outputs": [],
   "source": [
    "X_train_prime = np.hstack((X_train, X_train_squared))\n",
    "X_test_prime = np.hstack((X_test, X_test_squared))\n",
    "X_train_prime = np.hstack((X_train_prime, X_train**3))\n",
    "X_test_prime = np.hstack((X_test_prime, X_test**3))\n",
    "X_train_prime = np.hstack((X_train_prime, X_train**4))\n",
    "X_test_prime = np.hstack((X_test_prime, X_test**4))\n",
    "# X_train_prime = np.hstack((X_train_prime, X_train**5))\n",
    "# X_test_prime = np.hstack((X_test_prime, X_test**5))\n",
    "# X_train_prime = np.hstack((X_train_prime, np.multiply(X_train_squared, X_train_root)))\n",
    "# X_test_prime = np.hstack((X_test_prime, np.multiply(X_test_squared, X_test_root)))\n",
    "\n",
    "fig = plt.figure(figsize=(9,7))\n",
    "\n",
    "ax = Axes3D(fig, rect=[0, 0, 1, 1], elev=60, azim=54)\n",
    "# ax = plt.axes(projection='3d')\n",
    "cax = ax.scatter3D(X_train_prime[:,0], X_train_prime[:,1], Y_train[:,0], c = Y_train[:,0])\n",
    "ax.set_title('Data Distribution')\n",
    "\n",
    "\n",
    "# cax = ax.imshow(X, interpolation='nearest', cmap=cm.coolwarm)\n",
    "cbar = fig.colorbar(cax, ticks=[0, 1, 2], shrink = 0.5)\n",
    "cbar.ax.set_yticklabels(['X', 'X-square', 'Y'])\n",
    "\n",
    "plt.savefig('Images/3D.png')"
   ]
  },
  {
   "cell_type": "markdown",
   "metadata": {},
   "source": [
    "# Linear Regression with different features"
   ]
  },
  {
   "cell_type": "code",
   "execution_count": 11,
   "metadata": {},
   "outputs": [
    {
     "name": "stdout",
     "output_type": "stream",
     "text": [
      "0.12644025550397697\n"
     ]
    }
   ],
   "source": [
    "model = lm.LinearModel(solver = 'ols')\n",
    "model.train(X_train, Y_train)\n",
    "Y_pred = model.predict(X_test)\n",
    "\n",
    "print(r2_score(Y_test, Y_pred))"
   ]
  },
  {
   "cell_type": "code",
   "execution_count": 13,
   "metadata": {},
   "outputs": [
    {
     "name": "stderr",
     "output_type": "stream",
     "text": [
      "f:\\study\\projects\\btp\\btp\\lib\\site-packages\\sklearn\\utils\\validation.py:578: DataConversionWarning: A column-vector y was passed when a 1d array was expected. Please change the shape of y to (n_samples, ), for example using ravel().\n",
      "  y = column_or_1d(y, warn=True)\n"
     ]
    },
    {
     "ename": "TypeError",
     "evalue": "must be real number, not str",
     "output_type": "error",
     "traceback": [
      "\u001b[1;31m---------------------------------------------------------------------------\u001b[0m",
      "\u001b[1;31mTypeError\u001b[0m                                 Traceback (most recent call last)",
      "\u001b[1;32m<ipython-input-13-d5de52758581>\u001b[0m in \u001b[0;36m<module>\u001b[1;34m()\u001b[0m\n\u001b[0;32m      1\u001b[0m \u001b[1;32mfrom\u001b[0m \u001b[0msklearn\u001b[0m\u001b[1;33m.\u001b[0m\u001b[0msvm\u001b[0m \u001b[1;32mimport\u001b[0m \u001b[0mSVR\u001b[0m\u001b[1;33m\u001b[0m\u001b[0m\n\u001b[0;32m      2\u001b[0m \u001b[0mclf\u001b[0m \u001b[1;33m=\u001b[0m \u001b[0mSVR\u001b[0m\u001b[1;33m(\u001b[0m\u001b[0mgamma\u001b[0m\u001b[1;33m=\u001b[0m\u001b[1;34m'scale'\u001b[0m\u001b[1;33m,\u001b[0m \u001b[0mC\u001b[0m\u001b[1;33m=\u001b[0m\u001b[1;36m1.0\u001b[0m\u001b[1;33m,\u001b[0m \u001b[0mepsilon\u001b[0m\u001b[1;33m=\u001b[0m\u001b[1;36m0.2\u001b[0m\u001b[1;33m)\u001b[0m\u001b[1;33m\u001b[0m\u001b[0m\n\u001b[1;32m----> 3\u001b[1;33m \u001b[0mclf\u001b[0m\u001b[1;33m.\u001b[0m\u001b[0mfit\u001b[0m\u001b[1;33m(\u001b[0m\u001b[0mX_train\u001b[0m\u001b[1;33m,\u001b[0m \u001b[0mY_train\u001b[0m\u001b[1;33m)\u001b[0m\u001b[1;33m\u001b[0m\u001b[0m\n\u001b[0m\u001b[0;32m      4\u001b[0m \u001b[0mY_pred\u001b[0m \u001b[1;33m=\u001b[0m \u001b[0mmodel\u001b[0m\u001b[1;33m.\u001b[0m\u001b[0mpredict\u001b[0m\u001b[1;33m(\u001b[0m\u001b[0mX_test\u001b[0m\u001b[1;33m)\u001b[0m\u001b[1;33m\u001b[0m\u001b[0m\n\u001b[0;32m      5\u001b[0m \u001b[0mprint\u001b[0m\u001b[1;33m(\u001b[0m\u001b[0mr2_score\u001b[0m\u001b[1;33m(\u001b[0m\u001b[0mY_test\u001b[0m\u001b[1;33m,\u001b[0m \u001b[0mY_pred\u001b[0m\u001b[1;33m)\u001b[0m\u001b[1;33m)\u001b[0m\u001b[1;33m\u001b[0m\u001b[0m\n",
      "\u001b[1;32mf:\\study\\projects\\btp\\btp\\lib\\site-packages\\sklearn\\svm\\base.py\u001b[0m in \u001b[0;36mfit\u001b[1;34m(self, X, y, sample_weight)\u001b[0m\n\u001b[0;32m    185\u001b[0m \u001b[1;33m\u001b[0m\u001b[0m\n\u001b[0;32m    186\u001b[0m         \u001b[0mseed\u001b[0m \u001b[1;33m=\u001b[0m \u001b[0mrnd\u001b[0m\u001b[1;33m.\u001b[0m\u001b[0mrandint\u001b[0m\u001b[1;33m(\u001b[0m\u001b[0mnp\u001b[0m\u001b[1;33m.\u001b[0m\u001b[0miinfo\u001b[0m\u001b[1;33m(\u001b[0m\u001b[1;34m'i'\u001b[0m\u001b[1;33m)\u001b[0m\u001b[1;33m.\u001b[0m\u001b[0mmax\u001b[0m\u001b[1;33m)\u001b[0m\u001b[1;33m\u001b[0m\u001b[0m\n\u001b[1;32m--> 187\u001b[1;33m         \u001b[0mfit\u001b[0m\u001b[1;33m(\u001b[0m\u001b[0mX\u001b[0m\u001b[1;33m,\u001b[0m \u001b[0my\u001b[0m\u001b[1;33m,\u001b[0m \u001b[0msample_weight\u001b[0m\u001b[1;33m,\u001b[0m \u001b[0msolver_type\u001b[0m\u001b[1;33m,\u001b[0m \u001b[0mkernel\u001b[0m\u001b[1;33m,\u001b[0m \u001b[0mrandom_seed\u001b[0m\u001b[1;33m=\u001b[0m\u001b[0mseed\u001b[0m\u001b[1;33m)\u001b[0m\u001b[1;33m\u001b[0m\u001b[0m\n\u001b[0m\u001b[0;32m    188\u001b[0m         \u001b[1;31m# see comment on the other call to np.iinfo in this file\u001b[0m\u001b[1;33m\u001b[0m\u001b[1;33m\u001b[0m\u001b[0m\n\u001b[0;32m    189\u001b[0m \u001b[1;33m\u001b[0m\u001b[0m\n",
      "\u001b[1;32mf:\\study\\projects\\btp\\btp\\lib\\site-packages\\sklearn\\svm\\base.py\u001b[0m in \u001b[0;36m_dense_fit\u001b[1;34m(self, X, y, sample_weight, solver_type, kernel, random_seed)\u001b[0m\n\u001b[0;32m    252\u001b[0m                 \u001b[0mcache_size\u001b[0m\u001b[1;33m=\u001b[0m\u001b[0mself\u001b[0m\u001b[1;33m.\u001b[0m\u001b[0mcache_size\u001b[0m\u001b[1;33m,\u001b[0m \u001b[0mcoef0\u001b[0m\u001b[1;33m=\u001b[0m\u001b[0mself\u001b[0m\u001b[1;33m.\u001b[0m\u001b[0mcoef0\u001b[0m\u001b[1;33m,\u001b[0m\u001b[1;33m\u001b[0m\u001b[0m\n\u001b[0;32m    253\u001b[0m                 \u001b[0mgamma\u001b[0m\u001b[1;33m=\u001b[0m\u001b[0mself\u001b[0m\u001b[1;33m.\u001b[0m\u001b[0m_gamma\u001b[0m\u001b[1;33m,\u001b[0m \u001b[0mepsilon\u001b[0m\u001b[1;33m=\u001b[0m\u001b[0mself\u001b[0m\u001b[1;33m.\u001b[0m\u001b[0mepsilon\u001b[0m\u001b[1;33m,\u001b[0m\u001b[1;33m\u001b[0m\u001b[0m\n\u001b[1;32m--> 254\u001b[1;33m                 max_iter=self.max_iter, random_seed=random_seed)\n\u001b[0m\u001b[0;32m    255\u001b[0m \u001b[1;33m\u001b[0m\u001b[0m\n\u001b[0;32m    256\u001b[0m         \u001b[0mself\u001b[0m\u001b[1;33m.\u001b[0m\u001b[0m_warn_from_fit_status\u001b[0m\u001b[1;33m(\u001b[0m\u001b[1;33m)\u001b[0m\u001b[1;33m\u001b[0m\u001b[0m\n",
      "\u001b[1;32msklearn\\svm\\libsvm.pyx\u001b[0m in \u001b[0;36msklearn.svm.libsvm.fit\u001b[1;34m()\u001b[0m\n",
      "\u001b[1;31mTypeError\u001b[0m: must be real number, not str"
     ]
    }
   ],
   "source": [
    "from sklearn.svm import SVR\n",
    "clf = SVR(gamma='scale', C=1.0, epsilon=0.2)\n",
    "clf.fit(X_train, Y_train)\n",
    "Y_pred = model.predict(X_test)\n",
    "print(r2_score(Y_test, Y_pred))"
   ]
  },
  {
   "cell_type": "code",
   "execution_count": null,
   "metadata": {},
   "outputs": [],
   "source": []
  },
  {
   "cell_type": "code",
   "execution_count": null,
   "metadata": {},
   "outputs": [],
   "source": []
  }
 ],
 "metadata": {
  "kernelspec": {
   "display_name": "BTP",
   "language": "python",
   "name": "btp"
  },
  "language_info": {
   "codemirror_mode": {
    "name": "ipython",
    "version": 3
   },
   "file_extension": ".py",
   "mimetype": "text/x-python",
   "name": "python",
   "nbconvert_exporter": "python",
   "pygments_lexer": "ipython3",
   "version": "3.6.4"
  }
 },
 "nbformat": 4,
 "nbformat_minor": 2
}
