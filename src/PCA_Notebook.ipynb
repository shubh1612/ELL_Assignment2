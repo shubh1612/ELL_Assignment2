{
 "cells": [
  {
   "cell_type": "code",
   "execution_count": 48,
   "metadata": {},
   "outputs": [],
   "source": [
    "import numpy as np\n",
    "\n",
    "class PCA:\n",
    "     \n",
    "    # initialization\n",
    "    def _init_(self, n_components):\n",
    "        # number of components to be projected upon\n",
    "        self.n_components = n_components\n",
    "\n",
    "    # Calculate mean\n",
    "    def _mean(self):\n",
    "        [m, n] = np.shape(self.X)\n",
    "        return (np.sum(self.X, axis = 0))/m\n",
    "\n",
    "    # Calculate standard deviation\n",
    "    def _sigma(self):\n",
    "        variance = np.var(self.X, axis = 0)\n",
    "        sigma = np.sqrt(variance)\n",
    "        return sigma\n",
    "\n",
    "    # Normalize data (Centering by subtracting mean)\n",
    "    def _normalize(self):\n",
    "        [m, n] = np.shape(self.X)\n",
    "        mu = self._mean()\n",
    "        X_norm = (self.X - mu)\n",
    "        return X_norm\n",
    "    \n",
    "    # Calculate covariance matrix\n",
    "    def _covariance(self, X_norm):\n",
    "        [m, n] = np.shape(X_norm)        \n",
    "        return (np.matmul(np.transpose(X_norm), X_norm))/(m-1)\n",
    "    \n",
    "    # Singular Value Decomposition\n",
    "    def _svd(self, X_norm):\n",
    "        return np.linalg.svd(X_norm)\n",
    "    \n",
    "    # Projecting input data to smaller dimension\n",
    "    def _projectData(self, X_norm, U):\n",
    "        k = self.n_components\n",
    "        return np.matmul(X_norm, U[:, 1:k+1])\n",
    "        \n",
    "    # Function to be called for dimensionality reduction\n",
    "    def reduction(self, X_train, n_components):\n",
    "        self.X = X_train\n",
    "        self.n_components = n_components\n",
    "        X_norm = self._normalize()\n",
    "        [U, S, V] = self._svd(X_norm)\n",
    "        X_project = self._projectData(X_norm, U)\n",
    "        return X_project"
   ]
  },
  {
   "cell_type": "code",
   "execution_count": 51,
   "metadata": {},
   "outputs": [
    {
     "name": "stdout",
     "output_type": "stream",
     "text": [
      "[[ 0.47140452]\n",
      " [ 0.47140452]\n",
      " [-0.94280904]]\n"
     ]
    }
   ],
   "source": [
    "A = [[4, 4, 10], [-4, -4, 10], [-1, 1, 100]]\n",
    "pca = PCA()\n",
    "print(pca.reduction(A, 1))"
   ]
  },
  {
   "cell_type": "code",
   "execution_count": null,
   "metadata": {},
   "outputs": [],
   "source": []
  }
 ],
 "metadata": {
  "kernelspec": {
   "display_name": "BTP",
   "language": "python",
   "name": "btp"
  },
  "language_info": {
   "codemirror_mode": {
    "name": "ipython",
    "version": 3
   },
   "file_extension": ".py",
   "mimetype": "text/x-python",
   "name": "python",
   "nbconvert_exporter": "python",
   "pygments_lexer": "ipython3",
   "version": "3.6.4"
  }
 },
 "nbformat": 4,
 "nbformat_minor": 2
}
