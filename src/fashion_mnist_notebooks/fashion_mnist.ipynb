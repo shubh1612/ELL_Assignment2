{
 "cells": [
  {
   "cell_type": "code",
   "execution_count": 1,
   "metadata": {},
   "outputs": [],
   "source": [
    "import numpy as np\n",
    "import pandas as pd\n",
    "\n",
    "import matplotlib\n",
    "import matplotlib.pyplot as plt\n",
    "import matplotlib.cm as cm\n",
    "from mpl_toolkits.mplot3d import Axes3D\n",
    "\n",
    "import data_util as du\n",
    "import performance_util as pu\n",
    "import bayes_classifier as bayes\n",
    "import knn_classifier as knn\n",
    "\n",
    "from PCA import PCA\n",
    "import kmeans\n",
    "\n",
    "%matplotlib inline"
   ]
  },
  {
   "cell_type": "code",
   "execution_count": 2,
   "metadata": {},
   "outputs": [],
   "source": [
    "data_dir = '../data/fashion_mnist/'\n",
    "random_seed = 1\n",
    "np.set_printoptions(precision=4)"
   ]
  },
  {
   "cell_type": "code",
   "execution_count": 3,
   "metadata": {},
   "outputs": [
    {
     "name": "stdout",
     "output_type": "stream",
     "text": [
      "(60000, 784)\n",
      "(60000, 1)\n",
      "(10000, 784)\n",
      "(10000, 1)\n"
     ]
    }
   ],
   "source": [
    "X_train, Y_train = du.load_fashion_mnist(data_dir + 'train')\n",
    "X_test, Y_test = du.load_fashion_mnist(data_dir + 't10k')\n",
    "\n",
    "X_train = du.normalize2(X_train)\n",
    "X_test = du.normalize2(X_test)\n",
    "\n",
    "print(X_train.shape)\n",
    "print(Y_train.shape)\n",
    "\n",
    "print(X_test.shape)\n",
    "print(Y_test.shape)"
   ]
  },
  {
   "cell_type": "markdown",
   "metadata": {},
   "source": [
    "# Visualization of One Image"
   ]
  },
  {
   "cell_type": "code",
   "execution_count": 4,
   "metadata": {},
   "outputs": [
    {
     "data": {
      "image/png": "[encoded data removed]",
      "text/plain": [
       "<Figure size 432x288 with 1 Axes>"
      ]
     },
     "metadata": {
      "needs_background": "light"
     },
     "output_type": "display_data"
    }
   ],
   "source": [
    "plt.imshow(np.reshape(X_train[10], (-1, 28)))\n",
    "plt.gray()"
   ]
  },
  {
   "cell_type": "markdown",
   "metadata": {},
   "source": [
    "# PCA (n_components = 50)"
   ]
  },
  {
   "cell_type": "code",
   "execution_count": null,
   "metadata": {},
   "outputs": [],
   "source": [
    "pca = PCA(n_components=50)\n",
    "pca.fit(X_train)\n",
    "\n",
    "X_train_reduced_1 = pca.transform(X_train)\n",
    "X_test_reduced_1 = pca.transform(X_test)\n",
    "\n",
    "print(np.sum(pca.explained_variance_ratio_))\n",
    "\n",
    "print(X_train_reduced_1.shape)\n",
    "print(X_test_reduced_1.shape)"
   ]
  },
  {
   "cell_type": "markdown",
   "metadata": {},
   "source": [
    "### BAYES CLASSIFIER"
   ]
  },
  {
   "cell_type": "code",
   "execution_count": null,
   "metadata": {},
   "outputs": [],
   "source": [
    "parameters = [1, 0.001, 10, X_train_reduced_1.shape[1], 0.0001, False]\n",
    "\n",
    "model = bayes.bayes_classifier(estimator_type = 'GMM', param = parameters)\n",
    "model.train(X_train_reduced_1, Y_train)"
   ]
  },
  {
   "cell_type": "code",
   "execution_count": null,
   "metadata": {},
   "outputs": [],
   "source": [
    "Y_pred = model.predict(X_test_reduced_1)\n",
    "\n",
    "print(\"Accuracy on Test Set = \", pu.model_accuracy(Y_pred, Y_test))\n",
    "print(\"Precision per Class\")\n",
    "print(pu.model_precision(Y_pred, Y_test, 10).T[0, :])\n",
    "print(\"Recall per Class\")\n",
    "print(pu.model_recall(Y_pred, Y_test, 10).T[0, :])\n",
    "print(\"F1 Score per Class\")\n",
    "print(pu.model_f1(Y_pred, Y_test, 10).T[0, :])\n",
    "print(\"Macro Average Precision, Recall and F1 Score\")\n",
    "print(pu.model_macro_average(Y_pred, Y_test, 10))\n",
    "print(\"Micro Average Precision, Recall and F1 Score\")\n",
    "print(pu.model_micro_average(Y_pred, Y_test, 10))\n",
    "\n",
    "print()\n",
    "print()"
   ]
  },
  {
   "cell_type": "markdown",
   "metadata": {},
   "source": [
    "# PCA (n_components = 25)"
   ]
  },
  {
   "cell_type": "code",
   "execution_count": null,
   "metadata": {},
   "outputs": [],
   "source": [
    "pca = PCA(n_components=25)\n",
    "pca.fit(X_train)\n",
    "\n",
    "X_train_reduced_1 = pca.transform(X_train)\n",
    "X_test_reduced_1 = pca.transform(X_test)\n",
    "\n",
    "print(X_train_reduced_1.shape)\n",
    "print(X_test_reduced_1.shape)"
   ]
  },
  {
   "cell_type": "markdown",
   "metadata": {},
   "source": [
    "### BAYES CLASSIFIER"
   ]
  },
  {
   "cell_type": "markdown",
   "metadata": {},
   "source": [
    "#### Parzen Window"
   ]
  },
  {
   "cell_type": "code",
   "execution_count": null,
   "metadata": {},
   "outputs": [],
   "source": [
    "dimension = X_train_reduced_1.shape[1]\n",
    "\n",
    "parzen_parameters = [['hypercube', 0.1, dimension, True], ['hypercube', 0.25, dimension, True],\n",
    "                     ['hypercube', 0.5, dimension, True],  ['gaussian', 0.1, dimension, True],\n",
    "                     ['gaussian', 0.25, dimension, True],  ['gaussian', 0.5, dimension, True]]\n",
    "    \n",
    "for par in parzen_parameters:\n",
    "    model = bayes.bayes_classifier(estimator_type = 'Parzen', param = par)\n",
    "    model.train(X_train_reduced_1, Y_train)\n",
    "    Y_pred = model.predict(X_test_reduced_1)\n",
    "    \n",
    "    print(\"Accuracy on Dev Set = \", pu.model_accuracy(Y_pred, Y_test))\n",
    "    print(\"Precision per Class\")\n",
    "    print(pu.model_precision(Y_pred, Y_test, 10).T[0, :])\n",
    "    print(\"Recall per Class\")\n",
    "    print(pu.model_recall(Y_pred, Y_test, 10).T[0, :])\n",
    "    print(\"F1 Score per Class\")\n",
    "    print(pu.model_f1(Y_pred, Y_test, 10).T[0, :])\n",
    "    print(\"Macro Average Precision, Recall and F1 Score\")\n",
    "    print(pu.model_macro_average(Y_pred, Y_test, 10))\n",
    "    print(\"Micro Average Precision, Recall and F1 Score\")\n",
    "    print(pu.model_micro_average(Y_pred, Y_test, 10))\n",
    "    \n",
    "    print()\n",
    "    print()\n"
   ]
  },
  {
   "cell_type": "markdown",
   "metadata": {},
   "source": [
    "# Unsupervised Learning\n",
    "## K-Means Classifier "
   ]
  },
  {
   "cell_type": "markdown",
   "metadata": {},
   "source": [
    "### (n-clusters = 10)"
   ]
  },
  {
   "cell_type": "code",
   "execution_count": null,
   "metadata": {},
   "outputs": [],
   "source": [
    "model = kmeans.kmeans(10, 100, random_seed = 13)\n",
    "model.train(X_train_reduced_1)"
   ]
  },
  {
   "cell_type": "markdown",
   "metadata": {},
   "source": [
    "### Testing"
   ]
  },
  {
   "cell_type": "code",
   "execution_count": null,
   "metadata": {},
   "outputs": [],
   "source": [
    "Y_pred = np.expand_dims(model.predict(X_test_reduced_1), axis = 1)\n",
    "\n",
    "print(\"Accuracy on Test Set = \", pu.model_accuracy(Y_pred, Y_test))\n",
    "print(\"Precision per Class\")\n",
    "print(pu.model_precision(Y_pred, Y_test, 10).T[0, :])\n",
    "print(\"Recall per Class\")\n",
    "print(pu.model_recall(Y_pred, Y_test, 10).T[0, :])\n",
    "print(\"F1 Score per Class\")\n",
    "print(pu.model_f1(Y_pred, Y_test, 10).T[0, :])\n",
    "print(\"Macro Average Precision, Recall and F1 Score\")\n",
    "print(pu.model_macro_average(Y_pred, Y_test, 10))\n",
    "print(\"Micro Average Precision, Recall and F1 Score\")\n",
    "print(pu.model_micro_average(Y_pred, Y_test, 10))\n",
    "\n",
    "print()\n",
    "print()"
   ]
  },
  {
   "cell_type": "markdown",
   "metadata": {},
   "source": [
    "### (n-clusters = 20)"
   ]
  },
  {
   "cell_type": "code",
   "execution_count": null,
   "metadata": {},
   "outputs": [],
   "source": [
    "model = kmeans.kmeans(20, 100, random_seed = 1)\n",
    "model.train(X_train_reduced_1)"
   ]
  },
  {
   "cell_type": "markdown",
   "metadata": {},
   "source": [
    "### Testing"
   ]
  },
  {
   "cell_type": "code",
   "execution_count": null,
   "metadata": {
    "scrolled": false
   },
   "outputs": [],
   "source": [
    "Y_pred = np.expand_dims(model.predict(X_test_reduced_1), axis = 1)\n",
    "\n",
    "print(\"Accuracy on Test Set = \", pu.model_accuracy(Y_pred, Y_test))\n",
    "print(\"Precision per Class\")\n",
    "print(pu.model_precision(Y_pred, Y_test, 10).T[0, :])\n",
    "print(\"Recall per Class\")\n",
    "print(pu.model_recall(Y_pred, Y_test, 10).T[0, :])\n",
    "print(\"F1 Score per Class\")\n",
    "print(pu.model_f1(Y_pred, Y_test, 10).T[0, :])\n",
    "print(\"Macro Average Precision, Recall and F1 Score\")\n",
    "print(pu.model_macro_average(Y_pred, Y_test, 10))\n",
    "print(\"Micro Average Precision, Recall and F1 Score\")\n",
    "print(pu.model_micro_average(Y_pred, Y_test, 10))\n",
    "\n",
    "print()\n",
    "print()"
   ]
  },
  {
   "cell_type": "markdown",
   "metadata": {},
   "source": [
    "# PCA (n_components = 5)"
   ]
  },
  {
   "cell_type": "code",
   "execution_count": null,
   "metadata": {},
   "outputs": [],
   "source": [
    "pca = PCA(n_components=5)\n",
    "pca.fit(X_train)\n",
    "\n",
    "#print(np.sum(pca.explained_variance_ratio_))\n",
    "\n",
    "X_train_reduced_1 = pca.transform(X_train)\n",
    "X_test_reduced_1 = pca.transform(X_test)\n",
    "\n",
    "# Print reduced image\n",
    "# plt.imshow(np.reshape(X_train_reduced_1[10], (-1, 7)))\n",
    "# plt.gray()\n",
    "\n",
    "print(X_train_reduced_1.shape)\n",
    "print(X_test_reduced_1.shape)"
   ]
  },
  {
   "cell_type": "markdown",
   "metadata": {},
   "source": [
    "### BAYES CLASSIFIER"
   ]
  },
  {
   "cell_type": "markdown",
   "metadata": {},
   "source": [
    "#### Parzen Window"
   ]
  },
  {
   "cell_type": "code",
   "execution_count": null,
   "metadata": {},
   "outputs": [],
   "source": [
    "dimension = X_train_reduced_1.shape[1]\n",
    "\n",
    "parzen_parameters = [['hypercube', 0.1, dimension, True], ['hypercube', 0.25, dimension, True],\n",
    "                     ['hypercube', 0.5, dimension, True],  ['gaussian', 0.1, dimension, True],\n",
    "                     ['gaussian', 0.25, dimension, True],  ['gaussian', 0.5, dimension, True]]\n",
    "    \n",
    "for par in parzen_parameters:\n",
    "    model = bayes.bayes_classifier(estimator_type = 'Parzen', param = par)\n",
    "    model.train(X_train_reduced_1, Y_train)\n",
    "    Y_pred = model.predict(X_test_reduced_1)\n",
    "    \n",
    "    print(\"Accuracy on Dev Set = \", pu.model_accuracy(Y_pred, Y_test))\n",
    "    print(\"Precision per Class\")\n",
    "    print(pu.model_precision(Y_pred, Y_test, 10).T[0, :])\n",
    "    print(\"Recall per Class\")\n",
    "    print(pu.model_recall(Y_pred, Y_test, 10).T[0, :])\n",
    "    print(\"F1 Score per Class\")\n",
    "    print(pu.model_f1(Y_pred, Y_test, 10).T[0, :])\n",
    "    print(\"Macro Average Precision, Recall and F1 Score\")\n",
    "    print(pu.model_macro_average(Y_pred, Y_test, 10))\n",
    "    print(\"Micro Average Precision, Recall and F1 Score\")\n",
    "    print(pu.model_micro_average(Y_pred, Y_test, 10))\n",
    "    \n",
    "    print()\n",
    "    print()\n"
   ]
  },
  {
   "cell_type": "markdown",
   "metadata": {},
   "source": [
    "# Unsupervised Learning\n",
    "## K-Means Classifier "
   ]
  },
  {
   "cell_type": "markdown",
   "metadata": {},
   "source": [
    "### (n-clusters = 10)"
   ]
  },
  {
   "cell_type": "code",
   "execution_count": null,
   "metadata": {},
   "outputs": [],
   "source": [
    "model = kmeans.kmeans(10, 100, random_seed = 1)\n",
    "model.train(X_train_reduced_1)"
   ]
  },
  {
   "cell_type": "markdown",
   "metadata": {},
   "source": [
    "### Testing"
   ]
  },
  {
   "cell_type": "code",
   "execution_count": null,
   "metadata": {},
   "outputs": [],
   "source": [
    "Y_pred = np.expand_dims(model.predict(X_test_reduced_1), axis = 1)\n",
    "\n",
    "print(\"Accuracy on Test Set = \", pu.model_accuracy(Y_pred, Y_test))\n",
    "print(\"Precision per Class\")\n",
    "print(pu.model_precision(Y_pred, Y_test, 10).T[0, :])\n",
    "print(\"Recall per Class\")\n",
    "print(pu.model_recall(Y_pred, Y_test, 10).T[0, :])\n",
    "print(\"F1 Score per Class\")\n",
    "print(pu.model_f1(Y_pred, Y_test, 10).T[0, :])\n",
    "print(\"Macro Average Precision, Recall and F1 Score\")\n",
    "print(pu.model_macro_average(Y_pred, Y_test, 10))\n",
    "print(\"Micro Average Precision, Recall and F1 Score\")\n",
    "print(pu.model_micro_average(Y_pred, Y_test, 10))\n",
    "\n",
    "print()\n",
    "print()"
   ]
  },
  {
   "cell_type": "markdown",
   "metadata": {},
   "source": [
    "### (n-clusters = 20)"
   ]
  },
  {
   "cell_type": "code",
   "execution_count": null,
   "metadata": {},
   "outputs": [],
   "source": [
    "model = kmeans.kmeans(20, 100, random_seed = 1)\n",
    "model.train(X_train_reduced_1)"
   ]
  },
  {
   "cell_type": "markdown",
   "metadata": {},
   "source": [
    "### Testing"
   ]
  },
  {
   "cell_type": "code",
   "execution_count": null,
   "metadata": {
    "scrolled": false
   },
   "outputs": [],
   "source": [
    "Y_pred = np.expand_dims(model.predict(X_test_reduced_1), axis = 1)\n",
    "\n",
    "print(\"Accuracy on Test Set = \", pu.model_accuracy(Y_pred, Y_test))\n",
    "print(\"Precision per Class\")\n",
    "print(pu.model_precision(Y_pred, Y_test, 10).T[0, :])\n",
    "print(\"Recall per Class\")\n",
    "print(pu.model_recall(Y_pred, Y_test, 10).T[0, :])\n",
    "print(\"F1 Score per Class\")\n",
    "print(pu.model_f1(Y_pred, Y_test, 10).T[0, :])\n",
    "print(\"Macro Average Precision, Recall and F1 Score\")\n",
    "print(pu.model_macro_average(Y_pred, Y_test, 10))\n",
    "print(\"Micro Average Precision, Recall and F1 Score\")\n",
    "print(pu.model_micro_average(Y_pred, Y_test, 10))\n",
    "\n",
    "print()\n",
    "print()"
   ]
  }
 ],
 "metadata": {
  "kernelspec": {
   "display_name": "ell409",
   "language": "python",
   "name": "ell409"
  },
  "language_info": {
   "codemirror_mode": {
    "name": "ipython",
    "version": 3
   },
   "file_extension": ".py",
   "mimetype": "text/x-python",
   "name": "python",
   "nbconvert_exporter": "python",
   "pygments_lexer": "ipython3",
   "version": "3.6.3"
  }
 },
 "nbformat": 4,
 "nbformat_minor": 2
}
