{
  "nbformat": 4,
  "nbformat_minor": 0,
  "metadata": {
    "colab": {
      "name": "ell2.ipynb",
      "version": "0.3.2",
      "provenance": [],
      "toc_visible": true
    },
    "kernelspec": {
      "name": "python3",
      "display_name": "Python 3"
    }
  },
  "cells": [
    {
      "metadata": {
        "id": "tGvYuDC9tJRV",
        "colab_type": "code",
        "colab": {}
      },
      "cell_type": "code",
      "source": [
        "base_dir = 'drive/ell409/src'\n",
        "\n",
        "import os\n",
        "os.chdir(base_dir)"
      ],
      "execution_count": 0,
      "outputs": []
    },
    {
      "metadata": {
        "id": "XqoNBKuHkfNl",
        "colab_type": "code",
        "colab": {}
      },
      "cell_type": "code",
      "source": [
        "import numpy as np\n",
        "import pandas as pd\n",
        "\n",
        "import matplotlib\n",
        "import matplotlib.pyplot as plt\n",
        "import matplotlib.cm as cm\n",
        "from mpl_toolkits.mplot3d import Axes3D\n",
        "\n",
        "import data_util as du\n",
        "import performance_util as pu\n",
        "import bayes_classifier as bayes\n",
        "import knn_classifier as knn\n",
        "\n",
        "from sklearn.decomposition import PCA\n",
        "# from PCA import PCA\n",
        "import kmeans\n",
        "\n",
        "%matplotlib inline"
      ],
      "execution_count": 0,
      "outputs": []
    },
    {
      "metadata": {
        "id": "junHZq9plU2n",
        "colab_type": "code",
        "colab": {}
      },
      "cell_type": "code",
      "source": [
        "data_dir = '../data/fashion_mnist/'\n",
        "random_seed = 1\n",
        "np.set_printoptions(precision=4)"
      ],
      "execution_count": 0,
      "outputs": []
    },
    {
      "metadata": {
        "id": "Jeobr7Q4lXlO",
        "colab_type": "code",
        "colab": {
          "base_uri": "https://localhost:8080/",
          "height": 85
        },
        "outputId": "f5957718-b1b2-44be-fc3d-909849358d75"
      },
      "cell_type": "code",
      "source": [
        "X_train, Y_train = du.load_fashion_mnist(data_dir + 'train')\n",
        "X_test, Y_test = du.load_fashion_mnist(data_dir + 't10k')\n",
        "\n",
        "X_train = du.normalize2(X_train)\n",
        "X_test = du.normalize2(X_test)\n",
        "\n",
        "print(X_train.shape)\n",
        "print(Y_train.shape)\n",
        "\n",
        "print(X_test.shape)\n",
        "print(Y_test.shape)"
      ],
      "execution_count": 17,
      "outputs": [
        {
          "output_type": "stream",
          "text": [
            "(60000, 784)\n",
            "(60000, 1)\n",
            "(10000, 784)\n",
            "(10000, 1)\n"
          ],
          "name": "stdout"
        }
      ]
    },
    {
      "metadata": {
        "id": "rWVTa6VJlheB",
        "colab_type": "code",
        "colab": {}
      },
      "cell_type": "code",
      "source": [
        "# Visualization of One Image"
      ],
      "execution_count": 0,
      "outputs": []
    },
    {
      "metadata": {
        "id": "SHgyhLGlll1T",
        "colab_type": "code",
        "colab": {
          "base_uri": "https://localhost:8080/",
          "height": 265
        },
        "outputId": "f4d6a283-6b37-4b93-d941-06b02efc4fbb"
      },
      "cell_type": "code",
      "source": [
        "plt.imshow(np.reshape(X_train[10], (-1, 28)))\n",
        "plt.gray()"
      ],
      "execution_count": 19,
      "outputs": [
        {
          "output_type": "display_data",
          "data": {
            "image/png": "[encoded data removed]",
            "text/plain": [
              "<matplotlib.figure.Figure at 0x7f05b6f03390>"
            ]
          },
          "metadata": {
            "tags": []
          }
        }
      ]
    },
    {
      "metadata": {
        "id": "7vI4spFXlrdH",
        "colab_type": "code",
        "colab": {}
      },
      "cell_type": "code",
      "source": [
        "# PCA (n_components = 25)"
      ],
      "execution_count": 0,
      "outputs": []
    },
    {
      "metadata": {
        "id": "CfhJr80PsEuM",
        "colab_type": "code",
        "colab": {}
      },
      "cell_type": "code",
      "source": [
        ""
      ],
      "execution_count": 0,
      "outputs": []
    },
    {
      "metadata": {
        "id": "tdCVqE6JluXT",
        "colab_type": "code",
        "colab": {
          "base_uri": "https://localhost:8080/",
          "height": 316
        },
        "outputId": "0f1fd942-476f-4df4-8611-f7331280259e"
      },
      "cell_type": "code",
      "source": [
        "pca = PCA(n_components=25)\n",
        "pca.fit(X_train)\n",
        "\n",
        "#print(np.sum(pca.explained_variance_ratio_))\n",
        "\n",
        "X_train_reduced_1 = pca.transform(X_train)\n",
        "X_test_reduced_1 = pca.transform(X_test)\n",
        "\n",
        "# Print reduced image\n",
        "plt.imshow(np.reshape(X_train_reduced_1[10], (-1, 5)))\n",
        "plt.gray()\n",
        "\n",
        "print(X_train_reduced_1.shape)\n",
        "print(X_test_reduced_1.shape)\n",
        "print(np.sum(pca.explained_variance_ratio_))"
      ],
      "execution_count": 21,
      "outputs": [
        {
          "output_type": "stream",
          "text": [
            "(60000, 25)\n",
            "(10000, 25)\n",
            "0.7204558133834784\n"
          ],
          "name": "stdout"
        },
        {
          "output_type": "display_data",
          "data": {
            "image/png": "[encoded data removed]",
            "text/plain": [
              "<matplotlib.figure.Figure at 0x7f05b975fba8>"
            ]
          },
          "metadata": {
            "tags": []
          }
        }
      ]
    },
    {
      "metadata": {
        "id": "imAKsA_plwE2",
        "colab_type": "code",
        "colab": {}
      },
      "cell_type": "code",
      "source": [
        "# Supervised Learning\n",
        "\n",
        "## Bayes Classifier\n",
        "\n",
        "### Training and Parameter Tuning\n",
        "\n",
        "#### Class Conditional Distribution - (GMM - components = 1)"
      ],
      "execution_count": 0,
      "outputs": []
    },
    {
      "metadata": {
        "id": "mgUaAs57l04Q",
        "colab_type": "code",
        "colab": {
          "base_uri": "https://localhost:8080/",
          "height": 357
        },
        "outputId": "3985af20-6dca-414a-d832-a26ca0b08550"
      },
      "cell_type": "code",
      "source": [
        "parameters = [4, 0.001, 10, X_train_reduced_1.shape[1], 0.0001, False]\n",
        "\n",
        "model = bayes.bayes_classifier(estimator_type = 'GMM', param = parameters)\n",
        "model.train(X_train_reduced_1, Y_train)"
      ],
      "execution_count": 23,
      "outputs": [
        {
          "output_type": "stream",
          "text": [
            "Class 0\n",
            "Didn't converge, ran for 10 iterations\n",
            "Class 1\n",
            "Didn't converge, ran for 10 iterations\n",
            "Class 2\n",
            "Didn't converge, ran for 10 iterations\n",
            "Class 3\n",
            "Didn't converge, ran for 10 iterations\n",
            "Class 4\n",
            "Didn't converge, ran for 10 iterations\n",
            "Class 5\n",
            "Didn't converge, ran for 10 iterations\n",
            "Class 6\n",
            "Didn't converge, ran for 10 iterations\n",
            "Class 7\n",
            "Didn't converge, ran for 10 iterations\n",
            "Class 8\n",
            "Didn't converge, ran for 10 iterations\n",
            "Class 9\n",
            "Didn't converge, ran for 10 iterations\n"
          ],
          "name": "stdout"
        }
      ]
    },
    {
      "metadata": {
        "id": "bdpONb3Rl6Tx",
        "colab_type": "code",
        "colab": {
          "base_uri": "https://localhost:8080/",
          "height": 238
        },
        "outputId": "0b2d0c1c-ada2-45d0-d242-3c775f899132"
      },
      "cell_type": "code",
      "source": [
        "### Testing\n",
        "\n",
        "Y_pred = model.predict(X_test_reduced_1)\n",
        "\n",
        "print(\"Accuracy on Test Set = \", pu.model_accuracy(Y_pred, Y_test))\n",
        "print(\"Precision per Class\")\n",
        "print(pu.model_precision(Y_pred, Y_test, 10).T[0, :])\n",
        "print(\"Recall per Class\")\n",
        "print(pu.model_recall(Y_pred, Y_test, 10).T[0, :])\n",
        "print(\"F1 Score per Class\")\n",
        "print(pu.model_f1(Y_pred, Y_test, 10).T[0, :])\n",
        "print(\"Macro Average Precision, Recall and F1 Score\")\n",
        "print(pu.model_macro_average(Y_pred, Y_test, 10))\n",
        "print(\"Micro Average Precision, Recall and F1 Score\")\n",
        "print(pu.model_micro_average(Y_pred, Y_test, 10))\n",
        "\n",
        "print()\n",
        "print()"
      ],
      "execution_count": 24,
      "outputs": [
        {
          "output_type": "stream",
          "text": [
            "Accuracy on Test Set =  0.8319\n",
            "Precision per Class\n",
            "[0.7473 0.9698 0.6958 0.8134 0.6777 0.9463 0.6442 0.9009 0.9585 0.9484]\n",
            "Recall per Class\n",
            "[0.822 0.963 0.764 0.85  0.778 0.934 0.411 0.936 0.923 0.938]\n",
            "F1 Score per Class\n",
            "[0.7829 0.9664 0.7283 0.8313 0.7244 0.9401 0.5018 0.9181 0.9404 0.9432]\n",
            "Macro Average Precision, Recall and F1 Score\n",
            "[0.8302 0.8319 0.8311]\n",
            "Micro Average Precision, Recall and F1 Score\n",
            "[0.8319 0.8319 0.8319]\n",
            "\n",
            "\n"
          ],
          "name": "stdout"
        }
      ]
    },
    {
      "metadata": {
        "id": "-qXyoCAy0PVR",
        "colab_type": "code",
        "colab": {}
      },
      "cell_type": "code",
      "source": [
        ""
      ],
      "execution_count": 0,
      "outputs": []
    }
  ]
}