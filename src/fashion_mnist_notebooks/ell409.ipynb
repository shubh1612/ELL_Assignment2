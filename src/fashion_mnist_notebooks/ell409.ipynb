{
  "nbformat": 4,
  "nbformat_minor": 0,
  "metadata": {
    "colab": {
      "name": "ell409.ipynb",
      "version": "0.3.2",
      "provenance": [],
      "toc_visible": true
    },
    "kernelspec": {
      "name": "python3",
      "display_name": "Python 3"
    }
  },
  "cells": [
    {
      "metadata": {
        "id": "PGk6N-p-qTmk",
        "colab_type": "code",
        "colab": {}
      },
      "cell_type": "code",
      "source": [
        "!rm -r data/"
      ],
      "execution_count": 0,
      "outputs": []
    },
    {
      "metadata": {
        "id": "tGvYuDC9tJRV",
        "colab_type": "code",
        "colab": {}
      },
      "cell_type": "code",
      "source": [
        "base_dir = 'drive/ell409/src'\n",
        "\n",
        "import os\n",
        "os.chdir(base_dir)"
      ],
      "execution_count": 0,
      "outputs": []
    },
    {
      "metadata": {
        "id": "ZGjUUtNVva8h",
        "colab_type": "code",
        "colab": {}
      },
      "cell_type": "code",
      "source": [
        ""
      ],
      "execution_count": 0,
      "outputs": []
    },
    {
      "metadata": {
        "id": "XqoNBKuHkfNl",
        "colab_type": "code",
        "colab": {}
      },
      "cell_type": "code",
      "source": [
        "import numpy as np\n",
        "import pandas as pd\n",
        "\n",
        "import matplotlib\n",
        "import matplotlib.pyplot as plt\n",
        "import matplotlib.cm as cm\n",
        "from mpl_toolkits.mplot3d import Axes3D\n",
        "\n",
        "import data_util as du\n",
        "import performance_util as pu\n",
        "import bayes_classifier as bayes\n",
        "import knn_classifier as knn\n",
        "\n",
        "from sklearn.decomposition import PCA\n",
        "# from PCA import PCA\n",
        "import kmeans\n",
        "\n",
        "%matplotlib inline"
      ],
      "execution_count": 0,
      "outputs": []
    },
    {
      "metadata": {
        "id": "junHZq9plU2n",
        "colab_type": "code",
        "colab": {}
      },
      "cell_type": "code",
      "source": [
        "data_dir = '../data/fashion_mnist/'\n",
        "random_seed = 1\n",
        "np.set_printoptions(precision=4)"
      ],
      "execution_count": 0,
      "outputs": []
    },
    {
      "metadata": {
        "id": "Jeobr7Q4lXlO",
        "colab_type": "code",
        "colab": {
          "base_uri": "https://localhost:8080/",
          "height": 85
        },
        "outputId": "4205dfd3-4ebf-40ed-df58-5db7ebfe189b"
      },
      "cell_type": "code",
      "source": [
        "X_train, Y_train = du.load_fashion_mnist(data_dir + 'train')\n",
        "X_test, Y_test = du.load_fashion_mnist(data_dir + 't10k')\n",
        "\n",
        "X_train = du.normalize2(X_train)\n",
        "X_test = du.normalize2(X_test)\n",
        "\n",
        "print(X_train.shape)\n",
        "print(Y_train.shape)\n",
        "\n",
        "print(X_test.shape)\n",
        "print(Y_test.shape)"
      ],
      "execution_count": 4,
      "outputs": [
        {
          "output_type": "stream",
          "text": [
            "(60000, 784)\n",
            "(60000, 1)\n",
            "(10000, 784)\n",
            "(10000, 1)\n"
          ],
          "name": "stdout"
        }
      ]
    },
    {
      "metadata": {
        "id": "rWVTa6VJlheB",
        "colab_type": "code",
        "colab": {}
      },
      "cell_type": "code",
      "source": [
        "# Visualization of One Image"
      ],
      "execution_count": 0,
      "outputs": []
    },
    {
      "metadata": {
        "id": "SHgyhLGlll1T",
        "colab_type": "code",
        "colab": {
          "base_uri": "https://localhost:8080/",
          "height": 265
        },
        "outputId": "5dfc4709-2cd6-41f9-b18e-d50e0a350aec"
      },
      "cell_type": "code",
      "source": [
        "plt.imshow(np.reshape(X_train[10], (-1, 28)))\n",
        "plt.gray()"
      ],
      "execution_count": 6,
      "outputs": [
        {
          "output_type": "display_data",
          "data": {
            "image/png": "[encoded data removed]",
            "text/plain": [
              "<matplotlib.figure.Figure at 0x7f95ff2f4c18>"
            ]
          },
          "metadata": {
            "tags": []
          }
        }
      ]
    },
    {
      "metadata": {
        "id": "7vI4spFXlrdH",
        "colab_type": "code",
        "colab": {}
      },
      "cell_type": "code",
      "source": [
        "# PCA (n_components = 25)"
      ],
      "execution_count": 0,
      "outputs": []
    },
    {
      "metadata": {
        "id": "CfhJr80PsEuM",
        "colab_type": "code",
        "colab": {}
      },
      "cell_type": "code",
      "source": [
        ""
      ],
      "execution_count": 0,
      "outputs": []
    },
    {
      "metadata": {
        "id": "tdCVqE6JluXT",
        "colab_type": "code",
        "colab": {
          "base_uri": "https://localhost:8080/",
          "height": 316
        },
        "outputId": "82a149bf-0fd1-4159-fae6-177ad8ad8124"
      },
      "cell_type": "code",
      "source": [
        "pca = PCA(n_components=25)\n",
        "pca.fit(X_train)\n",
        "\n",
        "#print(np.sum(pca.explained_variance_ratio_))\n",
        "\n",
        "X_train_reduced_1 = pca.transform(X_train)\n",
        "X_test_reduced_1 = pca.transform(X_test)\n",
        "\n",
        "# Print reduced image\n",
        "plt.imshow(np.reshape(X_train_reduced_1[10], (-1, 5)))\n",
        "plt.gray()\n",
        "\n",
        "print(X_train_reduced_1.shape)\n",
        "print(X_test_reduced_1.shape)\n",
        "print(np.sum(pca.explained_variance_ratio_))"
      ],
      "execution_count": 8,
      "outputs": [
        {
          "output_type": "stream",
          "text": [
            "(60000, 25)\n",
            "(10000, 25)\n",
            "0.7204614014320665\n"
          ],
          "name": "stdout"
        },
        {
          "output_type": "display_data",
          "data": {
            "image/png": "[encoded data removed]",
            "text/plain": [
              "<matplotlib.figure.Figure at 0x7f95fb526748>"
            ]
          },
          "metadata": {
            "tags": []
          }
        }
      ]
    },
    {
      "metadata": {
        "id": "imAKsA_plwE2",
        "colab_type": "code",
        "colab": {}
      },
      "cell_type": "code",
      "source": [
        "# Supervised Learning\n",
        "\n",
        "## Bayes Classifier\n",
        "\n",
        "### Training and Parameter Tuning\n",
        "\n",
        "#### Class Conditional Distribution - (GMM - components = 1)"
      ],
      "execution_count": 0,
      "outputs": []
    },
    {
      "metadata": {
        "id": "mgUaAs57l04Q",
        "colab_type": "code",
        "colab": {
          "base_uri": "https://localhost:8080/",
          "height": 357
        },
        "outputId": "408eac8c-897a-48b6-94c3-fc1fb8c2fdd4"
      },
      "cell_type": "code",
      "source": [
        "parameters = [1, 0.001, 10, X_train_reduced_1.shape[1], 0.0001, False]\n",
        "\n",
        "model = bayes.bayes_classifier(estimator_type = 'GMM', param = parameters)\n",
        "model.train(X_train_reduced_1, Y_train)"
      ],
      "execution_count": 20,
      "outputs": [
        {
          "output_type": "stream",
          "text": [
            "Class 0\n",
            "Converged after 2 iterations\n",
            "Class 1\n",
            "Converged after 2 iterations\n",
            "Class 2\n",
            "Converged after 2 iterations\n",
            "Class 3\n",
            "Converged after 2 iterations\n",
            "Class 4\n",
            "Converged after 2 iterations\n",
            "Class 5\n",
            "Converged after 2 iterations\n",
            "Class 6\n",
            "Converged after 2 iterations\n",
            "Class 7\n",
            "Converged after 2 iterations\n",
            "Class 8\n",
            "Converged after 2 iterations\n",
            "Class 9\n",
            "Converged after 2 iterations\n"
          ],
          "name": "stdout"
        }
      ]
    },
    {
      "metadata": {
        "id": "bdpONb3Rl6Tx",
        "colab_type": "code",
        "colab": {
          "base_uri": "https://localhost:8080/",
          "height": 238
        },
        "outputId": "375e291e-c41c-48fb-e384-9864be4074b2"
      },
      "cell_type": "code",
      "source": [
        "### Testing\n",
        "\n",
        "Y_pred = model.predict(X_test_reduced_1)\n",
        "\n",
        "print(\"Accuracy on Test Set = \", pu.model_accuracy(Y_pred, Y_test))\n",
        "print(\"Precision per Class\")\n",
        "print(pu.model_precision(Y_pred, Y_test, 10).T[0, :])\n",
        "print(\"Recall per Class\")\n",
        "print(pu.model_recall(Y_pred, Y_test, 10).T[0, :])\n",
        "print(\"F1 Score per Class\")\n",
        "print(pu.model_f1(Y_pred, Y_test, 10).T[0, :])\n",
        "print(\"Macro Average Precision, Recall and F1 Score\")\n",
        "print(pu.model_macro_average(Y_pred, Y_test, 10))\n",
        "print(\"Micro Average Precision, Recall and F1 Score\")\n",
        "print(pu.model_micro_average(Y_pred, Y_test, 10))\n",
        "\n",
        "print()\n",
        "print()"
      ],
      "execution_count": 21,
      "outputs": [
        {
          "output_type": "stream",
          "text": [
            "Accuracy on Test Set =  0.8064\n",
            "Precision per Class\n",
            "[0.7584 0.9812 0.719  0.7651 0.6012 0.9508 0.5558 0.8391 0.92   0.9515]\n",
            "Recall per Class\n",
            "[0.788 0.942 0.701 0.85  0.817 0.889 0.294 0.949 0.931 0.903]\n",
            "F1 Score per Class\n",
            "[0.7729 0.9612 0.7099 0.8053 0.6927 0.9189 0.3846 0.8907 0.9254 0.9266]\n",
            "Macro Average Precision, Recall and F1 Score\n",
            "[0.8042 0.8064 0.8053]\n",
            "Micro Average Precision, Recall and F1 Score\n",
            "[0.8064 0.8064 0.8064]\n",
            "\n",
            "\n"
          ],
          "name": "stdout"
        }
      ]
    },
    {
      "metadata": {
        "id": "cP-IW_mbl95O",
        "colab_type": "code",
        "colab": {
          "base_uri": "https://localhost:8080/",
          "height": 357
        },
        "outputId": "dff2c8c0-0d73-4e46-d0de-28263a0b071d"
      },
      "cell_type": "code",
      "source": [
        "#### Class Conditional Density (GMM - Components = 2)\n",
        "\n",
        "parameters = [2, 0.001, 10, X_train_reduced_1.shape[1], 0.0001, False]\n",
        "\n",
        "model = bayes.bayes_classifier(estimator_type = 'GMM', param = parameters)\n",
        "model.train(X_train_reduced_1, Y_train)\n",
        "\n"
      ],
      "execution_count": 22,
      "outputs": [
        {
          "output_type": "stream",
          "text": [
            "Class 0\n",
            "Didn't converge, ran for 10 iterations\n",
            "Class 1\n",
            "Didn't converge, ran for 10 iterations\n",
            "Class 2\n",
            "Didn't converge, ran for 10 iterations\n",
            "Class 3\n",
            "Didn't converge, ran for 10 iterations\n",
            "Class 4\n",
            "Didn't converge, ran for 10 iterations\n",
            "Class 5\n",
            "Didn't converge, ran for 10 iterations\n",
            "Class 6\n",
            "Didn't converge, ran for 10 iterations\n",
            "Class 7\n",
            "Didn't converge, ran for 10 iterations\n",
            "Class 8\n",
            "Didn't converge, ran for 10 iterations\n",
            "Class 9\n",
            "Didn't converge, ran for 10 iterations\n"
          ],
          "name": "stdout"
        }
      ]
    },
    {
      "metadata": {
        "id": "FRaeOQRmmAHO",
        "colab_type": "code",
        "colab": {
          "base_uri": "https://localhost:8080/",
          "height": 238
        },
        "outputId": "ea6c0f7b-85fb-4aef-efcd-077ae519c363"
      },
      "cell_type": "code",
      "source": [
        "### Testing\n",
        "\n",
        "Y_pred = model.predict(X_test_reduced_1)\n",
        "\n",
        "print(\"Accuracy on Test Set = \", pu.model_accuracy(Y_pred, Y_test))\n",
        "print(\"Precision per Class\")\n",
        "print(pu.model_precision(Y_pred, Y_test, 10).T[0, :])\n",
        "print(\"Recall per Class\")\n",
        "print(pu.model_recall(Y_pred, Y_test, 10).T[0, :])\n",
        "print(\"F1 Score per Class\")\n",
        "print(pu.model_f1(Y_pred, Y_test, 10).T[0, :])\n",
        "print(\"Macro Average Precision, Recall and F1 Score\")\n",
        "print(pu.model_macro_average(Y_pred, Y_test, 10))\n",
        "print(\"Micro Average Precision, Recall and F1 Score\")\n",
        "print(pu.model_micro_average(Y_pred, Y_test, 10))\n",
        "\n",
        "print()\n",
        "print()"
      ],
      "execution_count": 24,
      "outputs": [
        {
          "output_type": "stream",
          "text": [
            "Accuracy on Test Set =  0.8194\n",
            "Precision per Class\n",
            "[0.7468 0.9767 0.7291 0.7926 0.6332 0.9502 0.5927 0.8582 0.9383 0.9464]\n",
            "Recall per Class\n",
            "[0.808 0.963 0.732 0.856 0.782 0.916 0.355 0.938 0.943 0.901]\n",
            "F1 Score per Class\n",
            "[0.7762 0.9698 0.7305 0.8231 0.6998 0.9328 0.444  0.8963 0.9406 0.9232]\n",
            "Macro Average Precision, Recall and F1 Score\n",
            "[0.8164 0.8194 0.8179]\n",
            "Micro Average Precision, Recall and F1 Score\n",
            "[0.8194 0.8194 0.8194]\n",
            "\n",
            "\n"
          ],
          "name": "stdout"
        }
      ]
    },
    {
      "metadata": {
        "id": "6aZszqCjw00N",
        "colab_type": "code",
        "colab": {
          "base_uri": "https://localhost:8080/",
          "height": 1207
        },
        "outputId": "242e4c76-1b7b-485e-f281-e118c1380d5f"
      },
      "cell_type": "code",
      "source": [
        "# (no. of neighbours, minkowski parameter) \n",
        "knn_parameters = [(5, 1),\n",
        "                  (5, 2), \n",
        "                  (10, 2),\n",
        "                  (5, np.inf),\n",
        "                  (5, -np.inf)]\n",
        "\n",
        "    \n",
        "for k1,p1 in knn_parameters:\n",
        "    model = knn.knn_model(k = k1, p = p1)\n",
        "    model.train(X_train_reduced_1, Y_train)\n",
        "    Y_pred = model.predict(X_test_reduced_1)\n",
        "    \n",
        "    print(\"Number of Neighbours = %s , Minkowski Parameter = %s\" % (str(k1), str(p1)))\n",
        "    print(\"Accuracy on Dev Set = \", pu.model_accuracy(Y_pred, Y_test))\n",
        "    print(\"Precision per Class\")\n",
        "    print(pu.model_precision(Y_pred, Y_test, 10).T[0, :])\n",
        "    print(\"Recall per Class\")\n",
        "    print(pu.model_recall(Y_pred, Y_test, 10).T[0, :])\n",
        "    print(\"F1 Score per Class\")\n",
        "    print(pu.model_f1(Y_pred, Y_test, 10).T[0, :])\n",
        "    print(\"Macro Average Precision, Recall and F1 Score\")\n",
        "    print(pu.model_macro_average(Y_pred, Y_test, 10))\n",
        "    print(\"Micro Average Precision, Recall and F1 Score\")\n",
        "    print(pu.model_micro_average(Y_pred, Y_test, 10))\n",
        "    \n",
        "    print()\n",
        "    print()"
      ],
      "execution_count": 10,
      "outputs": [
        {
          "output_type": "stream",
          "text": [
            "Number of Neighbours = 5 , Minkowski Parameter = 1\n",
            "Accuracy on Dev Set =  0.8568\n",
            "Precision per Class\n",
            "[0.7844 0.9848 0.7313 0.8926 0.7365 0.9813 0.6947 0.8967 0.9569 0.9085]\n",
            "Recall per Class\n",
            "[0.837 0.97  0.784 0.864 0.791 0.894 0.562 0.937 0.976 0.953]\n",
            "F1 Score per Class\n",
            "[0.8099 0.9773 0.7568 0.878  0.7628 0.9356 0.6213 0.9164 0.9663 0.9302]\n",
            "Macro Average Precision, Recall and F1 Score\n",
            "[0.8568 0.8568 0.8568]\n",
            "Micro Average Precision, Recall and F1 Score\n",
            "[0.8568 0.8568 0.8568]\n",
            "\n",
            "\n",
            "Number of Neighbours = 5 , Minkowski Parameter = 2\n",
            "Accuracy on Dev Set =  0.8576\n",
            "Precision per Class\n",
            "[0.7869 0.9837 0.7335 0.8923 0.7341 0.9794 0.7    0.8976 0.9529 0.9144]\n",
            "Recall per Class\n",
            "[0.838 0.968 0.787 0.87  0.784 0.902 0.567 0.938 0.971 0.951]\n",
            "F1 Score per Class\n",
            "[0.8116 0.9758 0.7593 0.881  0.7582 0.9391 0.6265 0.9174 0.9619 0.9324]\n",
            "Macro Average Precision, Recall and F1 Score\n",
            "[0.8575 0.8576 0.8575]\n",
            "Micro Average Precision, Recall and F1 Score\n",
            "[0.8576 0.8576 0.8576]\n",
            "\n",
            "\n",
            "Number of Neighbours = 10 , Minkowski Parameter = 2\n",
            "Accuracy on Dev Set =  0.8589\n",
            "Precision per Class\n",
            "[0.7763 0.9847 0.7502 0.8925 0.7349 0.9813 0.7    0.8973 0.9521 0.9164]\n",
            "Recall per Class\n",
            "[0.864 0.964 0.781 0.872 0.804 0.892 0.539 0.944 0.975 0.954]\n",
            "F1 Score per Class\n",
            "[0.8178 0.9742 0.7653 0.8821 0.7679 0.9345 0.609  0.9201 0.9634 0.9348]\n",
            "Macro Average Precision, Recall and F1 Score\n",
            "[0.8586 0.8589 0.8587]\n",
            "Micro Average Precision, Recall and F1 Score\n",
            "[0.8589 0.8589 0.8589]\n",
            "\n",
            "\n",
            "Number of Neighbours = 5 , Minkowski Parameter = inf\n",
            "Accuracy on Dev Set =  0.8474\n",
            "Precision per Class\n",
            "[0.7711 0.9826 0.7238 0.8774 0.7181 0.978  0.6731 0.8936 0.951  0.9013]\n",
            "Recall per Class\n",
            "[0.832 0.959 0.768 0.859 0.787 0.891 0.525 0.924 0.97  0.959]\n",
            "F1 Score per Class\n",
            "[0.8004 0.9706 0.7453 0.8681 0.751  0.9325 0.5899 0.9086 0.9604 0.9293]\n",
            "Macro Average Precision, Recall and F1 Score\n",
            "[0.847  0.8474 0.8472]\n",
            "Micro Average Precision, Recall and F1 Score\n",
            "[0.8474 0.8474 0.8474]\n",
            "\n",
            "\n",
            "Number of Neighbours = 5 , Minkowski Parameter = -inf\n",
            "Accuracy on Dev Set =  0.1304\n",
            "Precision per Class\n",
            "[0.1259 0.1645 0.1113 0.1339 0.1289 0.1252 0.1021 0.1557 0.1368 0.1206]\n",
            "Recall per Class\n",
            "[0.151 0.178 0.129 0.133 0.154 0.086 0.101 0.144 0.122 0.106]\n",
            "F1 Score per Class\n",
            "[0.1373 0.171  0.1195 0.1335 0.1403 0.102  0.1016 0.1496 0.129  0.1128]\n",
            "Macro Average Precision, Recall and F1 Score\n",
            "[0.1305 0.1304 0.1304]\n",
            "Micro Average Precision, Recall and F1 Score\n",
            "[0.1304 0.1304 0.1304]\n",
            "\n",
            "\n"
          ],
          "name": "stdout"
        }
      ]
    },
    {
      "metadata": {
        "id": "hJXx5d8UKbir",
        "colab_type": "code",
        "colab": {
          "base_uri": "https://localhost:8080/",
          "height": 34
        },
        "outputId": "78bbe786-35a3-44e9-9016-dcab9ff576bf"
      },
      "cell_type": "code",
      "source": [
        "import gc\n",
        "gc.collect()"
      ],
      "execution_count": 12,
      "outputs": [
        {
          "output_type": "execute_result",
          "data": {
            "text/plain": [
              "4988"
            ]
          },
          "metadata": {
            "tags": []
          },
          "execution_count": 12
        }
      ]
    },
    {
      "metadata": {
        "id": "p6qj-fLZ6zV0",
        "colab_type": "code",
        "colab": {}
      },
      "cell_type": "code",
      "source": [
        ""
      ],
      "execution_count": 0,
      "outputs": []
    }
  ]
}