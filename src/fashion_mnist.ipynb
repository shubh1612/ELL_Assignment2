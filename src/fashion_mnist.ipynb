{
 "cells": [
  {
   "cell_type": "code",
   "execution_count": 40,
   "metadata": {},
   "outputs": [],
   "source": [
    "import numpy as np\n",
    "import pandas as pd\n",
    "\n",
    "import matplotlib\n",
    "import matplotlib.pyplot as plt\n",
    "import matplotlib.cm as cm\n",
    "from mpl_toolkits.mplot3d import Axes3D\n",
    "\n",
    "import data_util as du\n",
    "import performance_util as pu\n",
    "import perceptron_model as perc\n",
    "import linear_model as lm\n",
    "from PCA import PCA\n",
    "import log_model as logit\n",
    "import softmax_logit as logsoft\n",
    "import flda as mflda\n",
    "import SVM as SVC\n",
    "import gzip\n",
    "%matplotlib inline"
   ]
  },
  {
   "cell_type": "code",
   "execution_count": 41,
   "metadata": {},
   "outputs": [],
   "source": [
    "data_dir = 'data/fashion'\n",
    "random_seed = 1\n",
    "np.set_printoptions(precision=4)"
   ]
  },
  {
   "cell_type": "code",
   "execution_count": 42,
   "metadata": {},
   "outputs": [],
   "source": [
    "#LOAD FASHION MNIST AND Principal Component Analysis\n",
    "def load_mnist(path, kind='train'):\n",
    "    import os\n",
    "    import gzip\n",
    "    import numpy as np\n",
    "\n",
    "    \"\"\"Load MNIST data from `path`\"\"\"\n",
    "    labels_path = os.path.join(path,\n",
    "                               '%s-labels-idx1-ubyte.gz'\n",
    "                               % kind)\n",
    "    images_path = os.path.join(path,\n",
    "                               '%s-images-idx3-ubyte.gz'\n",
    "                               % kind)\n",
    "\n",
    "    with gzip.open(labels_path, 'rb') as lbpath:\n",
    "        labels = np.frombuffer(lbpath.read(), dtype=np.uint8,\n",
    "                               offset=8)\n",
    "\n",
    "    with gzip.open(images_path, 'rb') as imgpath:\n",
    "        images = np.frombuffer(imgpath.read(), dtype=np.uint8,\n",
    "                               offset=16).reshape(len(labels), 784)\n",
    "\n",
    "    return images, labels\n"
   ]
  },
  {
   "cell_type": "code",
   "execution_count": 13,
   "metadata": {},
   "outputs": [
    {
     "name": "stdout",
     "output_type": "stream",
     "text": [
      "(60000, 784)\n",
      "(60000,)\n",
      "(10000, 784)\n",
      "(10000,)\n"
     ]
    }
   ],
   "source": [
    "X_train, Y_train = load_mnist(data_dir, kind ='train')\n",
    "X_test, Y_test =  load_mnist(data_dir, kind = 't10k')\n",
    "\n",
    "X_train = du.normalize2(X_train)\n",
    "X_test = du.normalize2(X_test)\n",
    "\n",
    "print(X_train.shape)\n",
    "print(Y_train.shape)\n",
    "\n",
    "print(X_test.shape)\n",
    "print(Y_test.shape)"
   ]
  },
  {
   "cell_type": "markdown",
   "metadata": {},
   "source": [
    "# Visualization of One Image"
   ]
  },
  {
   "cell_type": "code",
   "execution_count": 14,
   "metadata": {},
   "outputs": [
    {
     "data": {
      "image/png": "[encoded data removed]",
      "text/plain": [
       "<Figure size 432x288 with 1 Axes>"
      ]
     },
     "metadata": {
      "needs_background": "light"
     },
     "output_type": "display_data"
    }
   ],
   "source": [
    "plt.imshow(np.reshape(X_train[10], (-1, 28)))\n",
    "plt.gray()"
   ]
  },
  {
   "cell_type": "markdown",
   "metadata": {},
   "source": [
    "# PCA (n_components = 50)"
   ]
  },
  {
   "cell_type": "code",
   "execution_count": 28,
   "metadata": {},
   "outputs": [
    {
     "name": "stdout",
     "output_type": "stream",
     "text": [
      "0.8468725304267899\n",
      "(60000, 80)\n",
      "(10000, 80)\n"
     ]
    }
   ],
   "source": [
    "pca = PCA(n_components=80)\n",
    "pca.fit(X_train)\n",
    "\n",
    "X_train_reduced_1 = pca.transform(X_train)\n",
    "X_test_reduced_1 = pca.transform(X_test)\n",
    "\n",
    "print(np.sum(pca.explained_variance_ratio_))\n",
    "\n",
    "\n",
    "print(X_train_reduced_1.shape)\n",
    "print(X_test_reduced_1.shape)\n"
   ]
  },
  {
   "cell_type": "markdown",
   "metadata": {},
   "source": [
    "# Perceptron"
   ]
  },
  {
   "cell_type": "code",
   "execution_count": 46,
   "metadata": {
    "scrolled": false
   },
   "outputs": [
    {
     "name": "stdout",
     "output_type": "stream",
     "text": [
      "0\n",
      "1\n",
      "2\n",
      "3\n",
      "4\n",
      "5\n",
      "6\n",
      "7\n",
      "8\n",
      "9\n",
      "Accuracy: 0.7811\n",
      "macro_average:  [0.8169 0.7811 0.7986]\n",
      "micro_average:  [0.7811 0.7811 0.7811]\n",
      "0\n",
      "1\n",
      "2\n",
      "3\n",
      "4\n",
      "5\n",
      "6\n",
      "7\n",
      "8\n",
      "9\n",
      "Accuracy: 0.7974\n",
      "macro_average:  [0.8075 0.7974 0.8024]\n",
      "micro_average:  [0.7974 0.7974 0.7974]\n",
      "0\n",
      "1\n",
      "2\n",
      "3\n",
      "4\n",
      "5\n",
      "6\n",
      "7\n",
      "8\n",
      "9\n",
      "Accuracy: 0.8084\n",
      "macro_average:  [0.8178 0.8084 0.8131]\n",
      "micro_average:  [0.8084 0.8084 0.8084]\n",
      "0\n",
      "1\n",
      "2\n",
      "3\n",
      "4\n",
      "5\n",
      "6\n",
      "7\n",
      "8\n",
      "9\n",
      "Accuracy: 0.8078\n",
      "macro_average:  [0.8124 0.8078 0.8101]\n",
      "micro_average:  [0.8078 0.8078 0.8078]\n"
     ]
    }
   ],
   "source": [
    "losses = np.zeros(5)\n",
    "for i in range(1,5):\n",
    "    percy = perc.perceptron_model(i*5, 10,1)\n",
    "    weights  = percy.train(X_train, Y_train )\n",
    "    #print(weights)\n",
    "    result = percy.predict(X_test, weights)\n",
    "\n",
    "    result = result.reshape((10000,1))\n",
    "    Y_test = Y_test.reshape((10000, 1)) \n",
    "\n",
    "    #print(Y_test)\n",
    "    losses[i] = 1 - pu.model_accuracy(result, Y_test)\n",
    "    print( \"Accuracy:\" , pu.model_accuracy(result, Y_test))\n",
    "    print( \"macro_average: \", pu.model_macro_average(result, Y_test, 10))\n",
    "    print(\"micro_average: \", pu.model_micro_average(result, Y_test, 10))"
   ]
  },
  {
   "cell_type": "code",
   "execution_count": 47,
   "metadata": {},
   "outputs": [
    {
     "name": "stdout",
     "output_type": "stream",
     "text": [
      "[0.     0.2189 0.2026 0.1916 0.1922]\n"
     ]
    }
   ],
   "source": [
    "print(losses)"
   ]
  },
  {
   "cell_type": "markdown",
   "metadata": {},
   "source": [
    "# Logistic Model"
   ]
  },
  {
   "cell_type": "code",
   "execution_count": 35,
   "metadata": {},
   "outputs": [],
   "source": [
    "logist= logsoft.softmaxLogit( iterations = 20000, Lambda= 0.0, alpha = 0.045, num_classes =10)\n",
    "\n",
    "logist.fit(X_train_reduced_1, Y_train)"
   ]
  },
  {
   "cell_type": "code",
   "execution_count": 36,
   "metadata": {},
   "outputs": [
    {
     "name": "stdout",
     "output_type": "stream",
     "text": [
      "Accuracy: 0.759\n",
      "macro_average:  [0.7556 0.759  0.7573]\n",
      "micro_average:  [0.759 0.759 0.759]\n",
      "f1:  [[0.747 ]\n",
      " [0.9335]\n",
      " [0.6059]\n",
      " [0.7799]\n",
      " [0.5981]\n",
      " [0.8537]\n",
      " [0.3752]\n",
      " [0.8429]\n",
      " [0.8983]\n",
      " [0.8783]]\n",
      "precision:  [[0.696 ]\n",
      " [0.9628]\n",
      " [0.5907]\n",
      " [0.7176]\n",
      " [0.5785]\n",
      " [0.9487]\n",
      " [0.5311]\n",
      " [0.8157]\n",
      " [0.8869]\n",
      " [0.8282]]\n",
      "recall: [[0.806]\n",
      " [0.906]\n",
      " [0.622]\n",
      " [0.854]\n",
      " [0.619]\n",
      " [0.776]\n",
      " [0.29 ]\n",
      " [0.872]\n",
      " [0.91 ]\n",
      " [0.935]]\n"
     ]
    }
   ],
   "source": [
    "result= logist.predict(X_test_reduced_1)\n",
    "\n",
    "result = result.reshape((10000,))\n",
    "Y_test = Y_test.reshape((10000,))\n",
    "\n",
    "print( \"Accuracy:\" , pu.model_accuracy(result, Y_test))\n",
    "print( \"macro_average: \", pu.model_macro_average(result, Y_test, 10))\n",
    "print(\"micro_average: \", pu.model_micro_average(result, Y_test, 10))\n",
    "print( \"f1: \", pu.model_f1(result, Y_test,10))\n",
    "print(\"precision: \", pu.model_precision(result, Y_test,10))\n",
    "print(\"recall:\", pu.model_recall(result, Y_test,10))\n"
   ]
  },
  {
   "cell_type": "markdown",
   "metadata": {},
   "source": [
    "# FLDA"
   ]
  },
  {
   "cell_type": "code",
   "execution_count": 43,
   "metadata": {},
   "outputs": [
    {
     "name": "stdout",
     "output_type": "stream",
     "text": [
      "0.9612851613945299\n",
      "(60000, 300)\n",
      "(10000, 300)\n",
      "Accuracy: 0.7978\n",
      "macro_average:  [0.7972 0.7978 0.7975]\n",
      "micro_average:  [0.7978 0.7978 0.7978]\n",
      "f1:  [[0.7703]\n",
      " [0.9195]\n",
      " [0.6863]\n",
      " [0.7944]\n",
      " [0.6895]\n",
      " [0.87  ]\n",
      " [0.4798]\n",
      " [0.8872]\n",
      " [0.8755]\n",
      " [0.8957]]\n",
      "precision:  [[0.7444]\n",
      " [0.8732]\n",
      " [0.7114]\n",
      " [0.7411]\n",
      " [0.683 ]\n",
      " [0.9104]\n",
      " [0.7877]\n",
      " [0.8672]\n",
      " [0.8025]\n",
      " [0.8514]]\n",
      "recall: [[0.798]\n",
      " [0.971]\n",
      " [0.663]\n",
      " [0.856]\n",
      " [0.696]\n",
      " [0.833]\n",
      " [0.345]\n",
      " [0.908]\n",
      " [0.963]\n",
      " [0.945]]\n"
     ]
    }
   ],
   "source": [
    "for i in range(3, 4):\n",
    "    pca = PCA(n_components=i*100)\n",
    "    pca.fit(X_train)\n",
    "    X_train_reduced_1 = pca.transform(X_train)\n",
    "    X_test_reduced_1 = pca.transform(X_test)\n",
    "    print(np.sum(pca.explained_variance_ratio_))\n",
    "    print(X_train_reduced_1.shape)\n",
    "    print(X_test_reduced_1.shape)\n",
    "    \n",
    "    fld= mflda.flda(10)\n",
    "    fld.train(X_train_reduced_1, Y_train)\n",
    "    result = fld.predict(X_test_reduced_1)\n",
    "    result = result.reshape((10000,))\n",
    "    Y_test = Y_test.reshape((10000,))\n",
    "\n",
    "    print( \"Accuracy:\" , pu.model_accuracy(result, Y_test))\n",
    "    print( \"macro_average: \", pu.model_macro_average(result, Y_test, 10))\n",
    "    print(\"micro_average: \", pu.model_micro_average(result, Y_test, 10))\n",
    "    print( \"f1: \", pu.model_f1(result, Y_test,10))\n",
    "    print(\"precision: \", pu.model_precision(result, Y_test,10))\n",
    "    print(\"recall:\", pu.model_recall(result, Y_test,10))"
   ]
  },
  {
   "cell_type": "markdown",
   "metadata": {},
   "source": [
    "# SVM\n"
   ]
  },
  {
   "cell_type": "code",
   "execution_count": 43,
   "metadata": {},
   "outputs": [
    {
     "name": "stdout",
     "output_type": "stream",
     "text": [
      "Accuracy: 0.8394\n"
     ]
    }
   ],
   "source": [
    "clf = SVC(kernel='linear') \n",
    "  \n",
    "# fitting x samples and y classes \n",
    "clf.fit(X_train_reduced_1, Y_train)\n",
    "\n",
    "result = clf.predict(X_test_reduced_1) \n",
    "\n",
    "result = result.reshape((10000,1))\n",
    "Y_test = Y_test.reshape((10000, 1))\n",
    "print( \"Accuracy:\" , pu.model_accuracy(result, Y_test))"
   ]
  },
  {
   "cell_type": "code",
   "execution_count": 44,
   "metadata": {},
   "outputs": [
    {
     "name": "stdout",
     "output_type": "stream",
     "text": [
      "Accuracy: 0.8394\n",
      "macro_average:  [0.8368 0.8394 0.8381]\n",
      "micro_average:  [0.8394 0.8394 0.8394]\n"
     ]
    }
   ],
   "source": [
    "print( \"Accuracy:\" , pu.model_accuracy(result, Y_test))\n",
    "print( \"macro_average: \", pu.model_macro_average(result, Y_test, 10))\n",
    "print(\"micro_average: \", pu.model_micro_average(result, Y_test, 10))"
   ]
  },
  {
   "cell_type": "code",
   "execution_count": null,
   "metadata": {},
   "outputs": [],
   "source": []
  }
 ],
 "metadata": {
  "kernelspec": {
   "display_name": "Python 3",
   "language": "python",
   "name": "python3"
  },
  "language_info": {
   "codemirror_mode": {
    "name": "ipython",
    "version": 3
   },
   "file_extension": ".py",
   "mimetype": "text/x-python",
   "name": "python",
   "nbconvert_exporter": "python",
   "pygments_lexer": "ipython3",
   "version": "3.6.6"
  }
 },
 "nbformat": 4,
 "nbformat_minor": 2
}
